{
 "cells": [
  {
   "cell_type": "markdown",
   "metadata": {},
   "source": [
    "Build a regression model."
   ]
  },
  {
   "cell_type": "code",
   "execution_count": 1,
   "metadata": {},
   "outputs": [],
   "source": [
    "# imports\n",
    "import pandas as pd\n",
    "import statsmodels.api as sm\n",
    "\n",
    "grouped_business_df = pd.read_csv('grouped_business.csv', index_col = 0)"
   ]
  },
  {
   "cell_type": "code",
   "execution_count": 2,
   "metadata": {},
   "outputs": [
    {
     "data": {
      "text/html": [
       "<div>\n",
       "<style scoped>\n",
       "    .dataframe tbody tr th:only-of-type {\n",
       "        vertical-align: middle;\n",
       "    }\n",
       "\n",
       "    .dataframe tbody tr th {\n",
       "        vertical-align: top;\n",
       "    }\n",
       "\n",
       "    .dataframe thead th {\n",
       "        text-align: right;\n",
       "    }\n",
       "</style>\n",
       "<table border=\"1\" class=\"dataframe\">\n",
       "  <thead>\n",
       "    <tr style=\"text-align: right;\">\n",
       "      <th></th>\n",
       "      <th>Station Name</th>\n",
       "      <th>Average Rating</th>\n",
       "      <th>Average Reviews</th>\n",
       "      <th>Number of Bikes</th>\n",
       "    </tr>\n",
       "  </thead>\n",
       "  <tbody>\n",
       "    <tr>\n",
       "      <th>0</th>\n",
       "      <td>15e avenue / Laurier</td>\n",
       "      <td>3.950</td>\n",
       "      <td>32.10</td>\n",
       "      <td>23</td>\n",
       "    </tr>\n",
       "    <tr>\n",
       "      <th>1</th>\n",
       "      <td>6e Avenue / Bélanger</td>\n",
       "      <td>4.325</td>\n",
       "      <td>16.25</td>\n",
       "      <td>19</td>\n",
       "    </tr>\n",
       "    <tr>\n",
       "      <th>2</th>\n",
       "      <td>6e avenue / Villeray</td>\n",
       "      <td>4.250</td>\n",
       "      <td>11.65</td>\n",
       "      <td>15</td>\n",
       "    </tr>\n",
       "    <tr>\n",
       "      <th>3</th>\n",
       "      <td>Atwater / Greene</td>\n",
       "      <td>4.175</td>\n",
       "      <td>170.30</td>\n",
       "      <td>25</td>\n",
       "    </tr>\n",
       "    <tr>\n",
       "      <th>4</th>\n",
       "      <td>Atwater / Sherbrooke</td>\n",
       "      <td>4.200</td>\n",
       "      <td>293.65</td>\n",
       "      <td>23</td>\n",
       "    </tr>\n",
       "    <tr>\n",
       "      <th>...</th>\n",
       "      <td>...</td>\n",
       "      <td>...</td>\n",
       "      <td>...</td>\n",
       "      <td>...</td>\n",
       "    </tr>\n",
       "    <tr>\n",
       "      <th>155</th>\n",
       "      <td>du Mont-Royal / Clark</td>\n",
       "      <td>4.200</td>\n",
       "      <td>420.85</td>\n",
       "      <td>34</td>\n",
       "    </tr>\n",
       "    <tr>\n",
       "      <th>156</th>\n",
       "      <td>du Mont-Royal / de Brébeuf</td>\n",
       "      <td>4.150</td>\n",
       "      <td>414.95</td>\n",
       "      <td>11</td>\n",
       "    </tr>\n",
       "    <tr>\n",
       "      <th>157</th>\n",
       "      <td>du Parc-Lafontaine / Rachel</td>\n",
       "      <td>4.325</td>\n",
       "      <td>391.15</td>\n",
       "      <td>19</td>\n",
       "    </tr>\n",
       "    <tr>\n",
       "      <th>158</th>\n",
       "      <td>du Square Dorchester / Peel</td>\n",
       "      <td>4.150</td>\n",
       "      <td>253.30</td>\n",
       "      <td>14</td>\n",
       "    </tr>\n",
       "    <tr>\n",
       "      <th>159</th>\n",
       "      <td>Émile-Duployé / Sherbrooke</td>\n",
       "      <td>4.275</td>\n",
       "      <td>376.35</td>\n",
       "      <td>22</td>\n",
       "    </tr>\n",
       "  </tbody>\n",
       "</table>\n",
       "<p>160 rows × 4 columns</p>\n",
       "</div>"
      ],
      "text/plain": [
       "                    Station Name  Average Rating  Average Reviews  \\\n",
       "0           15e avenue / Laurier           3.950            32.10   \n",
       "1           6e Avenue / Bélanger           4.325            16.25   \n",
       "2           6e avenue / Villeray           4.250            11.65   \n",
       "3               Atwater / Greene           4.175           170.30   \n",
       "4           Atwater / Sherbrooke           4.200           293.65   \n",
       "..                           ...             ...              ...   \n",
       "155        du Mont-Royal / Clark           4.200           420.85   \n",
       "156   du Mont-Royal / de Brébeuf           4.150           414.95   \n",
       "157  du Parc-Lafontaine / Rachel           4.325           391.15   \n",
       "158  du Square Dorchester / Peel           4.150           253.30   \n",
       "159   Émile-Duployé / Sherbrooke           4.275           376.35   \n",
       "\n",
       "     Number of Bikes  \n",
       "0                 23  \n",
       "1                 19  \n",
       "2                 15  \n",
       "3                 25  \n",
       "4                 23  \n",
       "..               ...  \n",
       "155               34  \n",
       "156               11  \n",
       "157               19  \n",
       "158               14  \n",
       "159               22  \n",
       "\n",
       "[160 rows x 4 columns]"
      ]
     },
     "execution_count": 2,
     "metadata": {},
     "output_type": "execute_result"
    }
   ],
   "source": [
    "grouped_business_df"
   ]
  },
  {
   "cell_type": "code",
   "execution_count": 3,
   "metadata": {},
   "outputs": [],
   "source": [
    "X = grouped_business_df['Number of Bikes']\n",
    "Y = grouped_business_df['Average Rating']"
   ]
  },
  {
   "cell_type": "code",
   "execution_count": 5,
   "metadata": {},
   "outputs": [],
   "source": [
    "X = sm.add_constant(X)\n",
    "lin_model = sm.OLS(Y, X).fit()"
   ]
  },
  {
   "cell_type": "code",
   "execution_count": 6,
   "metadata": {},
   "outputs": [],
   "source": [
    "model = lin_model.summary()"
   ]
  },
  {
   "cell_type": "markdown",
   "metadata": {},
   "source": [
    "Provide model output and an interpretation of the results. "
   ]
  },
  {
   "cell_type": "code",
   "execution_count": 7,
   "metadata": {},
   "outputs": [
    {
     "name": "stdout",
     "output_type": "stream",
     "text": [
      "                            OLS Regression Results                            \n",
      "==============================================================================\n",
      "Dep. Variable:         Average Rating   R-squared:                       0.002\n",
      "Model:                            OLS   Adj. R-squared:                 -0.004\n",
      "Method:                 Least Squares   F-statistic:                    0.3716\n",
      "Date:                Sun, 10 Dec 2023   Prob (F-statistic):              0.543\n",
      "Time:                        21:30:03   Log-Likelihood:                 99.778\n",
      "No. Observations:                 160   AIC:                            -195.6\n",
      "Df Residuals:                     158   BIC:                            -189.4\n",
      "Df Model:                           1                                         \n",
      "Covariance Type:            nonrobust                                         \n",
      "===================================================================================\n",
      "                      coef    std err          t      P>|t|      [0.025      0.975]\n",
      "-----------------------------------------------------------------------------------\n",
      "const               4.1994      0.026    162.739      0.000       4.148       4.250\n",
      "Number of Bikes    -0.0006      0.001     -0.610      0.543      -0.003       0.001\n",
      "==============================================================================\n",
      "Omnibus:                       79.432   Durbin-Watson:                   1.885\n",
      "Prob(Omnibus):                  0.000   Jarque-Bera (JB):              341.587\n",
      "Skew:                          -1.867   Prob(JB):                     6.69e-75\n",
      "Kurtosis:                       9.107   Cond. No.                         66.2\n",
      "==============================================================================\n",
      "\n",
      "Notes:\n",
      "[1] Standard Errors assume that the covariance matrix of the errors is correctly specified.\n"
     ]
    }
   ],
   "source": [
    "print(model)"
   ]
  },
  {
   "cell_type": "markdown",
   "metadata": {},
   "source": [
    "Interpretation of Results:\n",
    "\n",
    "R-squared: From the model above, an R-squared value of 0.002 indicates that about 0.2% of the variability in the dependent variable (Average Rating) is explained by the variability in the independent variable (Number of Bikes). Thus, this model does not explain a significant amount of variation in the dependent variable.\n",
    "\n",
    "P-value: In this model output, the P-values for both the const coefficient and the Number of Bikes coefficient are very small (close to zero). This indicates that they are both statistically significant predictors of the dependent variable, Average Rating.\n",
    "\n",
    "Coefficient: For this linear regression model, the coefficient for Number of Bikes is approximately -0.0006, suggesting that on average, a one unit increase in the Number of Bikes correlates with an increase of 0.0006 in the Average Rating.\n",
    "\n",
    "Conclusion: While we can establish a statistically significant relationship between the independent and dependent variables, it is also worthy to note that the relationship between them is quite weak as evidenced by the low R-squared value.\n"
   ]
  },
  {
   "cell_type": "markdown",
   "metadata": {},
   "source": [
    "# Stretch"
   ]
  },
  {
   "cell_type": "markdown",
   "metadata": {},
   "source": [
    "How can you turn the regression model into a classification model?"
   ]
  },
  {
   "cell_type": "markdown",
   "metadata": {},
   "source": [
    "To convert the regression model into a classification model, I will first define which attribute I am trying to predict. Next, I'll work on grouping my continuous variables into discrete labels to help create the class. Then I'll select an approrpiate classification algorithm and afterwards, evaluate my model."
   ]
  },
  {
   "cell_type": "code",
   "execution_count": null,
   "metadata": {},
   "outputs": [],
   "source": []
  }
 ],
 "metadata": {
  "kernelspec": {
   "display_name": "Python 3 (ipykernel)",
   "language": "python",
   "name": "python3"
  },
  "language_info": {
   "codemirror_mode": {
    "name": "ipython",
    "version": 3
   },
   "file_extension": ".py",
   "mimetype": "text/x-python",
   "name": "python",
   "nbconvert_exporter": "python",
   "pygments_lexer": "ipython3",
   "version": "3.11.5"
  }
 },
 "nbformat": 4,
 "nbformat_minor": 4
}
