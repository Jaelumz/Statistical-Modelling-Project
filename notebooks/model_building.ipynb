{
 "cells": [
  {
   "cell_type": "markdown",
   "metadata": {},
   "source": [
    "Build a regression model."
   ]
  },
  {
   "cell_type": "code",
   "execution_count": 8,
   "metadata": {},
   "outputs": [],
   "source": [
    "# imports\n",
    "import pandas as pd\n",
    "import statsmodels.api as sm\n",
    "\n",
    "grouped_business_df = pd.read_csv('grouped_business.csv', index_col = 0)"
   ]
  },
  {
   "cell_type": "code",
   "execution_count": 9,
   "metadata": {},
   "outputs": [
    {
     "data": {
      "text/html": [
       "<div>\n",
       "<style scoped>\n",
       "    .dataframe tbody tr th:only-of-type {\n",
       "        vertical-align: middle;\n",
       "    }\n",
       "\n",
       "    .dataframe tbody tr th {\n",
       "        vertical-align: top;\n",
       "    }\n",
       "\n",
       "    .dataframe thead th {\n",
       "        text-align: right;\n",
       "    }\n",
       "</style>\n",
       "<table border=\"1\" class=\"dataframe\">\n",
       "  <thead>\n",
       "    <tr style=\"text-align: right;\">\n",
       "      <th></th>\n",
       "      <th>Station Name</th>\n",
       "      <th>Average Rating</th>\n",
       "      <th>Average Reviews</th>\n",
       "      <th>Number of Bikes</th>\n",
       "    </tr>\n",
       "  </thead>\n",
       "  <tbody>\n",
       "    <tr>\n",
       "      <th>0</th>\n",
       "      <td>Broadway Residence Hall</td>\n",
       "      <td>4.175000</td>\n",
       "      <td>572.050000</td>\n",
       "      <td>4</td>\n",
       "    </tr>\n",
       "    <tr>\n",
       "      <th>1</th>\n",
       "      <td>Casey Eye Institute</td>\n",
       "      <td>4.175000</td>\n",
       "      <td>80.850000</td>\n",
       "      <td>6</td>\n",
       "    </tr>\n",
       "    <tr>\n",
       "      <th>2</th>\n",
       "      <td>Cleveland High School</td>\n",
       "      <td>4.300000</td>\n",
       "      <td>561.050000</td>\n",
       "      <td>9</td>\n",
       "    </tr>\n",
       "    <tr>\n",
       "      <th>3</th>\n",
       "      <td>Cully Park</td>\n",
       "      <td>4.083333</td>\n",
       "      <td>47.111111</td>\n",
       "      <td>10</td>\n",
       "    </tr>\n",
       "    <tr>\n",
       "      <th>4</th>\n",
       "      <td>Doernbecher Children's Hospital</td>\n",
       "      <td>4.175000</td>\n",
       "      <td>48.750000</td>\n",
       "      <td>6</td>\n",
       "    </tr>\n",
       "    <tr>\n",
       "      <th>...</th>\n",
       "      <td>...</td>\n",
       "      <td>...</td>\n",
       "      <td>...</td>\n",
       "      <td>...</td>\n",
       "    </tr>\n",
       "    <tr>\n",
       "      <th>233</th>\n",
       "      <td>SW Yamhill at Director Park</td>\n",
       "      <td>4.175000</td>\n",
       "      <td>1497.900000</td>\n",
       "      <td>20</td>\n",
       "    </tr>\n",
       "    <tr>\n",
       "      <th>234</th>\n",
       "      <td>Shattuck Hall</td>\n",
       "      <td>4.175000</td>\n",
       "      <td>605.500000</td>\n",
       "      <td>3</td>\n",
       "    </tr>\n",
       "    <tr>\n",
       "      <th>235</th>\n",
       "      <td>Tilikum West at SW Moody</td>\n",
       "      <td>4.025000</td>\n",
       "      <td>285.600000</td>\n",
       "      <td>18</td>\n",
       "    </tr>\n",
       "    <tr>\n",
       "      <th>236</th>\n",
       "      <td>Urban Center Plaza at SW 6th</td>\n",
       "      <td>4.150000</td>\n",
       "      <td>741.550000</td>\n",
       "      <td>14</td>\n",
       "    </tr>\n",
       "    <tr>\n",
       "      <th>237</th>\n",
       "      <td>W Burnside at SW Park Ave</td>\n",
       "      <td>4.200000</td>\n",
       "      <td>1707.550000</td>\n",
       "      <td>9</td>\n",
       "    </tr>\n",
       "  </tbody>\n",
       "</table>\n",
       "<p>238 rows × 4 columns</p>\n",
       "</div>"
      ],
      "text/plain": [
       "                        Station Name  Average Rating  Average Reviews  \\\n",
       "0            Broadway Residence Hall        4.175000       572.050000   \n",
       "1                Casey Eye Institute        4.175000        80.850000   \n",
       "2              Cleveland High School        4.300000       561.050000   \n",
       "3                         Cully Park        4.083333        47.111111   \n",
       "4    Doernbecher Children's Hospital        4.175000        48.750000   \n",
       "..                               ...             ...              ...   \n",
       "233      SW Yamhill at Director Park        4.175000      1497.900000   \n",
       "234                    Shattuck Hall        4.175000       605.500000   \n",
       "235         Tilikum West at SW Moody        4.025000       285.600000   \n",
       "236     Urban Center Plaza at SW 6th        4.150000       741.550000   \n",
       "237        W Burnside at SW Park Ave        4.200000      1707.550000   \n",
       "\n",
       "     Number of Bikes  \n",
       "0                  4  \n",
       "1                  6  \n",
       "2                  9  \n",
       "3                 10  \n",
       "4                  6  \n",
       "..               ...  \n",
       "233               20  \n",
       "234                3  \n",
       "235               18  \n",
       "236               14  \n",
       "237                9  \n",
       "\n",
       "[238 rows x 4 columns]"
      ]
     },
     "execution_count": 9,
     "metadata": {},
     "output_type": "execute_result"
    }
   ],
   "source": [
    "grouped_business_df"
   ]
  },
  {
   "cell_type": "code",
   "execution_count": 10,
   "metadata": {},
   "outputs": [],
   "source": [
    "X = grouped_business_df['Number of Bikes']\n",
    "Y = grouped_business_df['Average Rating']"
   ]
  },
  {
   "cell_type": "code",
   "execution_count": 11,
   "metadata": {},
   "outputs": [],
   "source": [
    "X = sm.add_constant(X)\n",
    "lin_model = sm.OLS(Y, X).fit()"
   ]
  },
  {
   "cell_type": "code",
   "execution_count": 12,
   "metadata": {},
   "outputs": [],
   "source": [
    "model = lin_model.summary()"
   ]
  },
  {
   "cell_type": "markdown",
   "metadata": {},
   "source": [
    "Provide model output and an interpretation of the results. "
   ]
  },
  {
   "cell_type": "code",
   "execution_count": 13,
   "metadata": {},
   "outputs": [
    {
     "name": "stdout",
     "output_type": "stream",
     "text": [
      "                            OLS Regression Results                            \n",
      "==============================================================================\n",
      "Dep. Variable:         Average Rating   R-squared:                       0.000\n",
      "Model:                            OLS   Adj. R-squared:                 -0.004\n",
      "Method:                 Least Squares   F-statistic:                   0.02730\n",
      "Date:                Tue, 12 Dec 2023   Prob (F-statistic):              0.869\n",
      "Time:                        22:17:59   Log-Likelihood:                 88.758\n",
      "No. Observations:                 238   AIC:                            -173.5\n",
      "Df Residuals:                     236   BIC:                            -166.6\n",
      "Df Model:                           1                                         \n",
      "Covariance Type:            nonrobust                                         \n",
      "===================================================================================\n",
      "                      coef    std err          t      P>|t|      [0.025      0.975]\n",
      "-----------------------------------------------------------------------------------\n",
      "const               4.2146      0.023    181.252      0.000       4.169       4.260\n",
      "Number of Bikes     0.0004      0.002      0.165      0.869      -0.004       0.005\n",
      "==============================================================================\n",
      "Omnibus:                      132.997   Durbin-Watson:                   1.793\n",
      "Prob(Omnibus):                  0.000   Jarque-Bera (JB):              931.599\n",
      "Skew:                          -2.135   Prob(JB):                    5.08e-203\n",
      "Kurtosis:                      11.701   Cond. No.                         23.5\n",
      "==============================================================================\n",
      "\n",
      "Notes:\n",
      "[1] Standard Errors assume that the covariance matrix of the errors is correctly specified.\n"
     ]
    }
   ],
   "source": [
    "print(model)"
   ]
  },
  {
   "cell_type": "code",
   "execution_count": null,
   "metadata": {},
   "outputs": [],
   "source": [
    "#Inference from above statsmodel:\n",
    "#R-squared measures the proportion of the variance in the dependent variable (Average Rating) explained by the independent variable(s) (Number of Bikes).\n",
    "#In this case, R-squared is 0.000, indicating that the model does not explain a significant amount of variability in 'Average Rating'. The model doesn't fit the data well and is not statistically significant\n",
    "#Also the p-value for the Number of Bikes is actually very high at 0.869, we typically are looking for less than 0.05."
   ]
  },
  {
   "cell_type": "code",
   "execution_count": 15,
   "metadata": {},
   "outputs": [
    {
     "name": "stdout",
     "output_type": "stream",
     "text": [
      "                            OLS Regression Results                            \n",
      "==============================================================================\n",
      "Dep. Variable:        Average Reviews   R-squared:                       0.137\n",
      "Model:                            OLS   Adj. R-squared:                  0.133\n",
      "Method:                 Least Squares   F-statistic:                     37.43\n",
      "Date:                Tue, 12 Dec 2023   Prob (F-statistic):           3.90e-09\n",
      "Time:                        22:33:09   Log-Likelihood:                -1760.3\n",
      "No. Observations:                 238   AIC:                             3525.\n",
      "Df Residuals:                     236   BIC:                             3532.\n",
      "Df Model:                           1                                         \n",
      "Covariance Type:            nonrobust                                         \n",
      "===================================================================================\n",
      "                      coef    std err          t      P>|t|      [0.025      0.975]\n",
      "-----------------------------------------------------------------------------------\n",
      "const             274.1422     55.022      4.982      0.000     165.745     382.539\n",
      "Number of Bikes    30.8923      5.049      6.118      0.000      20.945      40.840\n",
      "==============================================================================\n",
      "Omnibus:                       19.633   Durbin-Watson:                   1.120\n",
      "Prob(Omnibus):                  0.000   Jarque-Bera (JB):               22.743\n",
      "Skew:                           0.746   Prob(JB):                     1.15e-05\n",
      "Kurtosis:                       2.744   Cond. No.                         23.5\n",
      "==============================================================================\n",
      "\n",
      "Notes:\n",
      "[1] Standard Errors assume that the covariance matrix of the errors is correctly specified.\n"
     ]
    }
   ],
   "source": [
    "#using 'Average Reviews' for the stats model\n",
    "X = grouped_business_df['Number of Bikes']\n",
    "Y = grouped_business_df['Average Reviews']\n",
    "\n",
    "X = sm.add_constant(X)\n",
    "lin_model = sm.OLS(Y, X).fit()\n",
    "model = lin_model.summary()\n",
    "print(model)"
   ]
  },
  {
   "cell_type": "markdown",
   "metadata": {},
   "source": [
    "Interpretation of Results:\n",
    "\n",
    "R-squared: From the model above, an R-squared value of 0.137 indicates that about 13.7% of the variability in the dependent variable (Average Reviews) is explained by the variability in the independent variable (Number of Bikes). Thus, this model suggests a moderate level of variation in the dependent variable.\n",
    "\n",
    "P-value: In this model output, the P-value for the Number of Bikes is 0.000. The low p-value suggests that we can reject the null hypothesis. The p-value indicates that the 'Number of Bikes' variable is a significant predictor of 'Average Reviews' in the model. 'Number of Bikes' variable has statistically significant effect on 'Average Reviews'.\n",
    "\n",
    "Coefficient: For this linear regression model, the coefficient for Number of Bikes is approximately 30.8923, suggesting an estimated change in 'Average Reviews' for a one-unit increase in the 'Number of Bikes'.\n",
    "\n",
    "F-statistic: In this model output, the F-statistic is 37.43 with a very low p-value (3.90e-09) which is an indicator that the model is statistically significant, and the 'Number of Bikes' is a significant predictor of 'Average Reviews'.\n",
    "\n",
    "Conclusion: While we can establish a statistically significant relationship between the independent and dependent variables, it is also worthy to note that the relationship between them does not imply causation.\n"
   ]
  },
  {
   "cell_type": "markdown",
   "metadata": {},
   "source": [
    "# Stretch"
   ]
  },
  {
   "cell_type": "markdown",
   "metadata": {},
   "source": [
    "How can you turn the regression model into a classification model?"
   ]
  },
  {
   "cell_type": "markdown",
   "metadata": {},
   "source": [
    "To convert the regression model into a classification model, I will first define which attribute I am trying to predict. Next, I'll work on grouping my continuous variables into discrete labels to help create the class. Then I'll select an approrpiate classification algorithm and afterwards, evaluate my model."
   ]
  },
  {
   "cell_type": "code",
   "execution_count": null,
   "metadata": {},
   "outputs": [],
   "source": []
  }
 ],
 "metadata": {
  "kernelspec": {
   "display_name": "Python 3 (ipykernel)",
   "language": "python",
   "name": "python3"
  },
  "language_info": {
   "codemirror_mode": {
    "name": "ipython",
    "version": 3
   },
   "file_extension": ".py",
   "mimetype": "text/x-python",
   "name": "python",
   "nbconvert_exporter": "python",
   "pygments_lexer": "ipython3",
   "version": "3.11.5"
  }
 },
 "nbformat": 4,
 "nbformat_minor": 4
}
