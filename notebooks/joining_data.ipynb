{
 "cells": [
  {
   "cell_type": "markdown",
   "metadata": {},
   "source": [
    "Join the data from Part 1 with the data from Part 2 to create a new dataframe."
   ]
  },
  {
   "cell_type": "code",
   "execution_count": 3,
   "metadata": {},
   "outputs": [],
   "source": [
    "# imports\n",
    "import pandas as pd\n",
    "import sqlite3\n",
    "from sqlite3 import Error\n",
    "import seaborn as sns\n",
    "\n",
    "import warnings\n",
    "\n",
    "# Suppress seaborn and pandas warnings\n",
    "warnings.filterwarnings(\"ignore\", category=FutureWarning)"
   ]
  },
  {
   "cell_type": "code",
   "execution_count": 4,
   "metadata": {},
   "outputs": [],
   "source": [
    "bike_stations_df = pd.read_csv('bike_stations.csv', index_col = 0)\n",
    "yelp_business_df = pd.read_csv('yelp_business.csv', index_col = 0)"
   ]
  },
  {
   "cell_type": "markdown",
   "metadata": {},
   "source": [
    "Join the data from both dataframes on Station Name and drop columns not needed"
   ]
  },
  {
   "cell_type": "code",
   "execution_count": 5,
   "metadata": {},
   "outputs": [],
   "source": [
    "Business_and_Bike_Stations_df = pd.merge(yelp_business_df, bike_stations_df, on = 'Station Name')\n",
    "Business_and_Bike_Stations_df = Business_and_Bike_Stations_df.drop(columns=['Latitude', 'Longitude'])"
   ]
  },
  {
   "cell_type": "code",
   "execution_count": 6,
   "metadata": {},
   "outputs": [
    {
     "data": {
      "text/html": [
       "<div>\n",
       "<style scoped>\n",
       "    .dataframe tbody tr th:only-of-type {\n",
       "        vertical-align: middle;\n",
       "    }\n",
       "\n",
       "    .dataframe tbody tr th {\n",
       "        vertical-align: top;\n",
       "    }\n",
       "\n",
       "    .dataframe thead th {\n",
       "        text-align: right;\n",
       "    }\n",
       "</style>\n",
       "<table border=\"1\" class=\"dataframe\">\n",
       "  <thead>\n",
       "    <tr style=\"text-align: right;\">\n",
       "      <th></th>\n",
       "      <th>Station Name</th>\n",
       "      <th>Station Latitude</th>\n",
       "      <th>Station Longitude</th>\n",
       "      <th>Business Category</th>\n",
       "      <th>Business Name</th>\n",
       "      <th>Rating</th>\n",
       "      <th>Number of Reviews</th>\n",
       "      <th>Address</th>\n",
       "      <th>Contact</th>\n",
       "      <th>Available Bikes</th>\n",
       "      <th>Empty Slots</th>\n",
       "      <th>Number of Bikes</th>\n",
       "    </tr>\n",
       "  </thead>\n",
       "  <tbody>\n",
       "    <tr>\n",
       "      <th>0</th>\n",
       "      <td>SE 47th at Hawthorne</td>\n",
       "      <td>45.511950</td>\n",
       "      <td>-122.614160</td>\n",
       "      <td>Mexican</td>\n",
       "      <td>Por Qué No? Taqueria</td>\n",
       "      <td>4.0</td>\n",
       "      <td>1365</td>\n",
       "      <td>4635 SE Hawthorne Blvd</td>\n",
       "      <td>(503) 954-3138</td>\n",
       "      <td>1</td>\n",
       "      <td>2</td>\n",
       "      <td>3</td>\n",
       "    </tr>\n",
       "    <tr>\n",
       "      <th>1</th>\n",
       "      <td>SE 47th at Hawthorne</td>\n",
       "      <td>45.511950</td>\n",
       "      <td>-122.614160</td>\n",
       "      <td>Pizza</td>\n",
       "      <td>Apizza Scholls</td>\n",
       "      <td>4.0</td>\n",
       "      <td>1753</td>\n",
       "      <td>4741 SE Hawthorne Blvd</td>\n",
       "      <td>(503) 233-1286</td>\n",
       "      <td>1</td>\n",
       "      <td>2</td>\n",
       "      <td>3</td>\n",
       "    </tr>\n",
       "    <tr>\n",
       "      <th>2</th>\n",
       "      <td>SE 47th at Hawthorne</td>\n",
       "      <td>45.511950</td>\n",
       "      <td>-122.614160</td>\n",
       "      <td>Lounges</td>\n",
       "      <td>Sapphire Hotel</td>\n",
       "      <td>4.5</td>\n",
       "      <td>492</td>\n",
       "      <td>5008 SE Hawthorne Blvd</td>\n",
       "      <td>(503) 232-6333</td>\n",
       "      <td>1</td>\n",
       "      <td>2</td>\n",
       "      <td>3</td>\n",
       "    </tr>\n",
       "    <tr>\n",
       "      <th>3</th>\n",
       "      <td>SE 47th at Hawthorne</td>\n",
       "      <td>45.511950</td>\n",
       "      <td>-122.614160</td>\n",
       "      <td>Noodles</td>\n",
       "      <td>Baka Umai</td>\n",
       "      <td>4.5</td>\n",
       "      <td>178</td>\n",
       "      <td>4703 SE Hawthorne Blvd</td>\n",
       "      <td>(971) 255-0116</td>\n",
       "      <td>1</td>\n",
       "      <td>2</td>\n",
       "      <td>3</td>\n",
       "    </tr>\n",
       "    <tr>\n",
       "      <th>4</th>\n",
       "      <td>SE 47th at Hawthorne</td>\n",
       "      <td>45.511950</td>\n",
       "      <td>-122.614160</td>\n",
       "      <td>Thai</td>\n",
       "      <td>Khao Thai</td>\n",
       "      <td>4.5</td>\n",
       "      <td>73</td>\n",
       "      <td>4604 SE Hawthorne Blvd</td>\n",
       "      <td>(971) 346-2422</td>\n",
       "      <td>1</td>\n",
       "      <td>2</td>\n",
       "      <td>3</td>\n",
       "    </tr>\n",
       "    <tr>\n",
       "      <th>...</th>\n",
       "      <td>...</td>\n",
       "      <td>...</td>\n",
       "      <td>...</td>\n",
       "      <td>...</td>\n",
       "      <td>...</td>\n",
       "      <td>...</td>\n",
       "      <td>...</td>\n",
       "      <td>...</td>\n",
       "      <td>...</td>\n",
       "      <td>...</td>\n",
       "      <td>...</td>\n",
       "      <td>...</td>\n",
       "    </tr>\n",
       "    <tr>\n",
       "      <th>4749</th>\n",
       "      <td>NE 29th Ave (U of O)</td>\n",
       "      <td>45.570366</td>\n",
       "      <td>-122.636043</td>\n",
       "      <td>Bakeries</td>\n",
       "      <td>Flour Market</td>\n",
       "      <td>5.0</td>\n",
       "      <td>28</td>\n",
       "      <td>5507 NE 30th Ave</td>\n",
       "      <td>(503) 209-5363</td>\n",
       "      <td>5</td>\n",
       "      <td>1</td>\n",
       "      <td>6</td>\n",
       "    </tr>\n",
       "    <tr>\n",
       "      <th>4750</th>\n",
       "      <td>NE 29th Ave (U of O)</td>\n",
       "      <td>45.570366</td>\n",
       "      <td>-122.636043</td>\n",
       "      <td>Food Trucks</td>\n",
       "      <td>Honey Butter Country Fare</td>\n",
       "      <td>5.0</td>\n",
       "      <td>26</td>\n",
       "      <td>6719 NE 18th Ave</td>\n",
       "      <td>(503) 209-5363</td>\n",
       "      <td>5</td>\n",
       "      <td>1</td>\n",
       "      <td>6</td>\n",
       "    </tr>\n",
       "    <tr>\n",
       "      <th>4751</th>\n",
       "      <td>NE 29th Ave (U of O)</td>\n",
       "      <td>45.570366</td>\n",
       "      <td>-122.636043</td>\n",
       "      <td>Coffee &amp; Tea</td>\n",
       "      <td>Kiss Coffee</td>\n",
       "      <td>5.0</td>\n",
       "      <td>37</td>\n",
       "      <td>3016 NE Ainsworth St</td>\n",
       "      <td>(503) 209-5363</td>\n",
       "      <td>5</td>\n",
       "      <td>1</td>\n",
       "      <td>6</td>\n",
       "    </tr>\n",
       "    <tr>\n",
       "      <th>4752</th>\n",
       "      <td>NE 29th Ave (U of O)</td>\n",
       "      <td>45.570366</td>\n",
       "      <td>-122.636043</td>\n",
       "      <td>Burgers</td>\n",
       "      <td>Bless Your Heart Burgers</td>\n",
       "      <td>4.0</td>\n",
       "      <td>132</td>\n",
       "      <td>5410 NE 33rd Ave</td>\n",
       "      <td>(503) 719-6447</td>\n",
       "      <td>5</td>\n",
       "      <td>1</td>\n",
       "      <td>6</td>\n",
       "    </tr>\n",
       "    <tr>\n",
       "      <th>4753</th>\n",
       "      <td>NE 29th Ave (U of O)</td>\n",
       "      <td>45.570366</td>\n",
       "      <td>-122.636043</td>\n",
       "      <td>Bars</td>\n",
       "      <td>Boiler Room at Kennedy School</td>\n",
       "      <td>4.5</td>\n",
       "      <td>23</td>\n",
       "      <td>5736 NE 33rd Ave</td>\n",
       "      <td>(503) 719-6447</td>\n",
       "      <td>5</td>\n",
       "      <td>1</td>\n",
       "      <td>6</td>\n",
       "    </tr>\n",
       "  </tbody>\n",
       "</table>\n",
       "<p>4754 rows × 12 columns</p>\n",
       "</div>"
      ],
      "text/plain": [
       "              Station Name  Station Latitude  Station Longitude  \\\n",
       "0     SE 47th at Hawthorne         45.511950        -122.614160   \n",
       "1     SE 47th at Hawthorne         45.511950        -122.614160   \n",
       "2     SE 47th at Hawthorne         45.511950        -122.614160   \n",
       "3     SE 47th at Hawthorne         45.511950        -122.614160   \n",
       "4     SE 47th at Hawthorne         45.511950        -122.614160   \n",
       "...                    ...               ...                ...   \n",
       "4749  NE 29th Ave (U of O)         45.570366        -122.636043   \n",
       "4750  NE 29th Ave (U of O)         45.570366        -122.636043   \n",
       "4751  NE 29th Ave (U of O)         45.570366        -122.636043   \n",
       "4752  NE 29th Ave (U of O)         45.570366        -122.636043   \n",
       "4753  NE 29th Ave (U of O)         45.570366        -122.636043   \n",
       "\n",
       "     Business Category                  Business Name  Rating  \\\n",
       "0              Mexican           Por Qué No? Taqueria     4.0   \n",
       "1                Pizza                 Apizza Scholls     4.0   \n",
       "2              Lounges                 Sapphire Hotel     4.5   \n",
       "3              Noodles                      Baka Umai     4.5   \n",
       "4                 Thai                      Khao Thai     4.5   \n",
       "...                ...                            ...     ...   \n",
       "4749          Bakeries                   Flour Market     5.0   \n",
       "4750       Food Trucks      Honey Butter Country Fare     5.0   \n",
       "4751      Coffee & Tea                    Kiss Coffee     5.0   \n",
       "4752           Burgers       Bless Your Heart Burgers     4.0   \n",
       "4753              Bars  Boiler Room at Kennedy School     4.5   \n",
       "\n",
       "      Number of Reviews                 Address         Contact  \\\n",
       "0                  1365  4635 SE Hawthorne Blvd  (503) 954-3138   \n",
       "1                  1753  4741 SE Hawthorne Blvd  (503) 233-1286   \n",
       "2                   492  5008 SE Hawthorne Blvd  (503) 232-6333   \n",
       "3                   178  4703 SE Hawthorne Blvd  (971) 255-0116   \n",
       "4                    73  4604 SE Hawthorne Blvd  (971) 346-2422   \n",
       "...                 ...                     ...             ...   \n",
       "4749                 28        5507 NE 30th Ave  (503) 209-5363   \n",
       "4750                 26        6719 NE 18th Ave  (503) 209-5363   \n",
       "4751                 37    3016 NE Ainsworth St  (503) 209-5363   \n",
       "4752                132        5410 NE 33rd Ave  (503) 719-6447   \n",
       "4753                 23        5736 NE 33rd Ave  (503) 719-6447   \n",
       "\n",
       "      Available Bikes  Empty Slots  Number of Bikes  \n",
       "0                   1            2                3  \n",
       "1                   1            2                3  \n",
       "2                   1            2                3  \n",
       "3                   1            2                3  \n",
       "4                   1            2                3  \n",
       "...               ...          ...              ...  \n",
       "4749                5            1                6  \n",
       "4750                5            1                6  \n",
       "4751                5            1                6  \n",
       "4752                5            1                6  \n",
       "4753                5            1                6  \n",
       "\n",
       "[4754 rows x 12 columns]"
      ]
     },
     "execution_count": 6,
     "metadata": {},
     "output_type": "execute_result"
    }
   ],
   "source": [
    "Business_and_Bike_Stations_df['Number of Bikes'] = Business_and_Bike_Stations_df['Available Bikes'] + Business_and_Bike_Stations_df['Empty Slots']\n",
    "Business_and_Bike_Stations_df"
   ]
  },
  {
   "cell_type": "code",
   "execution_count": 7,
   "metadata": {},
   "outputs": [],
   "source": [
    "Business_and_Bike_Stations_df.to_csv('Business_and_Bike_Stations.csv')"
   ]
  },
  {
   "cell_type": "markdown",
   "metadata": {},
   "source": [
    "Using the aggregate argument for summary stats of the dataframe for Business and Bike Stations"
   ]
  },
  {
   "cell_type": "code",
   "execution_count": 8,
   "metadata": {},
   "outputs": [
    {
     "name": "stdout",
     "output_type": "stream",
     "text": [
      "                        Station Name  Average Rating  Average Reviews  \\\n",
      "0            Broadway Residence Hall        4.175000       572.050000   \n",
      "1                Casey Eye Institute        4.175000        80.850000   \n",
      "2              Cleveland High School        4.300000       561.050000   \n",
      "3                         Cully Park        4.083333        47.111111   \n",
      "4    Doernbecher Children's Hospital        4.175000        48.750000   \n",
      "..                               ...             ...              ...   \n",
      "233      SW Yamhill at Director Park        4.175000      1497.900000   \n",
      "234                    Shattuck Hall        4.175000       605.500000   \n",
      "235         Tilikum West at SW Moody        4.025000       285.600000   \n",
      "236     Urban Center Plaza at SW 6th        4.150000       741.550000   \n",
      "237        W Burnside at SW Park Ave        4.200000      1707.550000   \n",
      "\n",
      "     Number of Bikes  \n",
      "0                  4  \n",
      "1                  6  \n",
      "2                  9  \n",
      "3                 10  \n",
      "4                  6  \n",
      "..               ...  \n",
      "233               20  \n",
      "234                3  \n",
      "235               18  \n",
      "236               14  \n",
      "237                9  \n",
      "\n",
      "[238 rows x 4 columns]\n"
     ]
    }
   ],
   "source": [
    "grouped_business = Business_and_Bike_Stations_df.groupby('Station Name').agg({\n",
    "    'Rating': 'mean',\n",
    "    'Number of Reviews': 'mean',\n",
    "    'Number of Bikes': 'max'\n",
    "}).reset_index()\n",
    "\n",
    "grouped_business = grouped_business.rename(columns={\n",
    "    'Rating': 'Average Rating',\n",
    "    'Number of Reviews': 'Average Reviews',\n",
    "})\n",
    "grouped_business_df = pd.DataFrame(grouped_business)\n",
    "print(grouped_business_df)"
   ]
  },
  {
   "cell_type": "code",
   "execution_count": 9,
   "metadata": {},
   "outputs": [],
   "source": [
    "grouped_business_df.to_csv('grouped_business.csv')"
   ]
  },
  {
   "cell_type": "markdown",
   "metadata": {},
   "source": [
    "Provide a visualization that you used as part of your EDA process. Explain the initial pattern or relationship you discoved through this visualization. "
   ]
  },
  {
   "cell_type": "code",
   "execution_count": 10,
   "metadata": {},
   "outputs": [
    {
     "data": {
      "text/plain": [
       "(4754, 12)"
      ]
     },
     "execution_count": 10,
     "metadata": {},
     "output_type": "execute_result"
    }
   ],
   "source": [
    "Business_and_Bike_Stations_df.shape"
   ]
  },
  {
   "cell_type": "code",
   "execution_count": 11,
   "metadata": {},
   "outputs": [
    {
     "data": {
      "text/plain": [
       "count                     4754\n",
       "unique                     238\n",
       "top       SE 47th at Hawthorne\n",
       "freq                        20\n",
       "Name: Station Name, dtype: object"
      ]
     },
     "execution_count": 11,
     "metadata": {},
     "output_type": "execute_result"
    }
   ],
   "source": [
    "Business_and_Bike_Stations_df['Station Name'].describe()"
   ]
  },
  {
   "cell_type": "code",
   "execution_count": 12,
   "metadata": {},
   "outputs": [
    {
     "data": {
      "text/plain": [
       "count    4754.000000\n",
       "mean        4.218237\n",
       "std         0.446090\n",
       "min         1.000000\n",
       "25%         4.000000\n",
       "50%         4.500000\n",
       "75%         4.500000\n",
       "max         5.000000\n",
       "Name: Rating, dtype: float64"
      ]
     },
     "execution_count": 12,
     "metadata": {},
     "output_type": "execute_result"
    }
   ],
   "source": [
    "Business_and_Bike_Stations_df['Rating'].describe()"
   ]
  },
  {
   "cell_type": "code",
   "execution_count": 13,
   "metadata": {},
   "outputs": [
    {
     "data": {
      "text/plain": [
       "count    4754.000000\n",
       "mean        9.639041\n",
       "std         5.087424\n",
       "min         1.000000\n",
       "25%         5.000000\n",
       "50%         9.000000\n",
       "75%        13.000000\n",
       "max        25.000000\n",
       "Name: Number of Bikes, dtype: float64"
      ]
     },
     "execution_count": 13,
     "metadata": {},
     "output_type": "execute_result"
    }
   ],
   "source": [
    "Business_and_Bike_Stations_df['Number of Bikes'].describe()"
   ]
  },
  {
   "cell_type": "code",
   "execution_count": 14,
   "metadata": {},
   "outputs": [
    {
     "data": {
      "text/plain": [
       "<Axes: xlabel='Number of Bikes', ylabel='Count'>"
      ]
     },
     "execution_count": 14,
     "metadata": {},
     "output_type": "execute_result"
    },
    {
     "data": {
      "image/png": "[encoded data removed]",
      "text/plain": [
       "<Figure size 640x480 with 1 Axes>"
      ]
     },
     "metadata": {},
     "output_type": "display_data"
    }
   ],
   "source": [
    "sns.histplot(Business_and_Bike_Stations_df['Number of Bikes'])"
   ]
  },
  {
   "cell_type": "code",
   "execution_count": 15,
   "metadata": {},
   "outputs": [
    {
     "data": {
      "text/plain": [
       "<Axes: xlabel='Rating', ylabel='Count'>"
      ]
     },
     "execution_count": 15,
     "metadata": {},
     "output_type": "execute_result"
    },
    {
     "data": {
      "image/png": "[encoded data removed]",
      "text/plain": [
       "<Figure size 640x480 with 1 Axes>"
      ]
     },
     "metadata": {},
     "output_type": "display_data"
    }
   ],
   "source": [
    "sns.histplot(Business_and_Bike_Stations_df['Rating'])"
   ]
  },
  {
   "cell_type": "code",
   "execution_count": 16,
   "metadata": {},
   "outputs": [
    {
     "data": {
      "image/png": "[encoded data removed]",
      "text/plain": [
       "<Figure size 640x480 with 1 Axes>"
      ]
     },
     "metadata": {},
     "output_type": "display_data"
    }
   ],
   "source": [
    "import matplotlib.pyplot as plt\n",
    "\n",
    "plt.scatter(grouped_business_df['Number of Bikes'], grouped_business_df['Average Rating'])\n",
    "plt.title('Scatter Plot: Number of Bikes vs Average Rating')\n",
    "plt.xlabel('Number of Bikes')\n",
    "plt.ylabel('Average Rating')\n",
    "plt.show()"
   ]
  },
  {
   "cell_type": "markdown",
   "metadata": {},
   "source": [
    "Data Visualization for Exploratory Data Analysis using Number of Bikes vs Reviews"
   ]
  },
  {
   "cell_type": "code",
   "execution_count": 17,
   "metadata": {},
   "outputs": [
    {
     "data": {
      "image/png": "[encoded data removed]",
      "text/plain": [
       "<Figure size 640x480 with 1 Axes>"
      ]
     },
     "metadata": {},
     "output_type": "display_data"
    }
   ],
   "source": [
    "import matplotlib.pyplot as plt\n",
    "\n",
    "plt.scatter(grouped_business_df['Number of Bikes'], grouped_business_df['Average Reviews'])\n",
    "plt.title('Scatter Plot: Number of Bikes vs Average Reviews')\n",
    "plt.xlabel('Number of Bikes')\n",
    "plt.ylabel('Average Reviews')\n",
    "plt.show()"
   ]
  },
  {
   "cell_type": "markdown",
   "metadata": {},
   "source": [
    "# Database"
   ]
  },
  {
   "cell_type": "markdown",
   "metadata": {},
   "source": [
    "Put all your results in an SQLite3 database (remember, SQLite stores its databases as files in your local machine - make sure to create your database in your project's data/ directory!)"
   ]
  },
  {
   "cell_type": "code",
   "execution_count": 92,
   "metadata": {},
   "outputs": [],
   "source": [
    "def create_connection(path):\n",
    "    connection = None\n",
    "    try:\n",
    "        connection = sqlite3.connect(path)\n",
    "        print(\"Connection to SQLite DB successful\")\n",
    "    except Error as e:\n",
    "        print(f\"The error '{e}' occurred\")\n",
    "\n",
    "    return connection"
   ]
  },
  {
   "cell_type": "code",
   "execution_count": 93,
   "metadata": {},
   "outputs": [
    {
     "name": "stdout",
     "output_type": "stream",
     "text": [
      "Connection to SQLite DB successful\n"
     ]
    }
   ],
   "source": [
    "connection = create_connection(\"Business_and_Bike_Stations.sqlite\")\n",
    "connect = sqlite3.connect('Business_and_Bike_Stations.sqlite')"
   ]
  },
  {
   "cell_type": "code",
   "execution_count": 94,
   "metadata": {},
   "outputs": [
    {
     "data": {
      "text/plain": [
       "4754"
      ]
     },
     "execution_count": 94,
     "metadata": {},
     "output_type": "execute_result"
    }
   ],
   "source": [
    "table_name = 'Business_and_Bike_Stations'\n",
    "Business_and_Bike_Stations_df.to_sql(table_name, connect, if_exists='replace', index=False)"
   ]
  },
  {
   "cell_type": "code",
   "execution_count": 95,
   "metadata": {},
   "outputs": [],
   "source": [
    "connect.commit()\n",
    "connect.close()"
   ]
  },
  {
   "cell_type": "markdown",
   "metadata": {},
   "source": [
    "Look at the data before and after the join to validate your data."
   ]
  },
  {
   "cell_type": "markdown",
   "metadata": {},
   "source": []
  },
  {
   "cell_type": "code",
   "execution_count": 96,
   "metadata": {},
   "outputs": [
    {
     "name": "stdout",
     "output_type": "stream",
     "text": [
      "238\n",
      "238\n",
      "5\n",
      "238\n"
     ]
    }
   ],
   "source": [
    "print(len(bike_stations_df.index))\n",
    "print(bike_stations_df.shape[0])\n",
    "print(bike_stations_df.shape[1])\n",
    "print(bike_stations_df[bike_stations_df.columns[0]].count())"
   ]
  },
  {
   "cell_type": "code",
   "execution_count": 97,
   "metadata": {},
   "outputs": [
    {
     "name": "stdout",
     "output_type": "stream",
     "text": [
      "4754\n",
      "4754\n",
      "9\n",
      "4754\n"
     ]
    }
   ],
   "source": [
    "print(len(yelp_business_df.index))\n",
    "print(yelp_business_df.shape[0])\n",
    "print(yelp_business_df.shape[1])\n",
    "print(yelp_business_df[yelp_business_df.columns[0]].count())"
   ]
  },
  {
   "cell_type": "code",
   "execution_count": 98,
   "metadata": {},
   "outputs": [
    {
     "name": "stdout",
     "output_type": "stream",
     "text": [
      "4754\n",
      "4754\n",
      "12\n",
      "4754\n"
     ]
    }
   ],
   "source": [
    "print(len(Business_and_Bike_Stations_df.index))\n",
    "print(Business_and_Bike_Stations_df.shape[0])\n",
    "print(Business_and_Bike_Stations_df.shape[1])\n",
    "print(Business_and_Bike_Stations_df[Business_and_Bike_Stations_df.columns[0]].count())"
   ]
  }
 ],
 "metadata": {
  "kernelspec": {
   "display_name": "Python 3 (ipykernel)",
   "language": "python",
   "name": "python3"
  },
  "language_info": {
   "codemirror_mode": {
    "name": "ipython",
    "version": 3
   },
   "file_extension": ".py",
   "mimetype": "text/x-python",
   "name": "python",
   "nbconvert_exporter": "python",
   "pygments_lexer": "ipython3",
   "version": "3.11.5"
  }
 },
 "nbformat": 4,
 "nbformat_minor": 4
}
