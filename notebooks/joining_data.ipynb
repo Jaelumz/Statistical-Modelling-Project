{
 "cells": [
  {
   "cell_type": "markdown",
   "metadata": {},
   "source": [
    "Join the data from Part 1 with the data from Part 2 to create a new dataframe."
   ]
  },
  {
   "cell_type": "code",
   "execution_count": 1,
   "metadata": {},
   "outputs": [],
   "source": [
    "# imports\n",
    "import pandas as pd\n",
    "import sqlite3\n",
    "from sqlite3 import Error\n",
    "import seaborn as sns"
   ]
  },
  {
   "cell_type": "code",
   "execution_count": 2,
   "metadata": {},
   "outputs": [],
   "source": [
    "bike_stations_df = pd.read_csv('bike_stations.csv', index_col = 0)\n",
    "yelp_business_df = pd.read_csv('yelp_business.csv', index_col = 0)"
   ]
  },
  {
   "cell_type": "code",
   "execution_count": 3,
   "metadata": {},
   "outputs": [],
   "source": [
    "Business_and_Bike_Stations_df = pd.merge(yelp_business_df, bike_stations_df, on = 'Station Name')\n",
    "Business_and_Bike_Stations_df = Business_and_Bike_Stations_df.drop(columns=['Latitude', 'Longitude'])"
   ]
  },
  {
   "cell_type": "code",
   "execution_count": 4,
   "metadata": {},
   "outputs": [
    {
     "data": {
      "text/html": [
       "<div>\n",
       "<style scoped>\n",
       "    .dataframe tbody tr th:only-of-type {\n",
       "        vertical-align: middle;\n",
       "    }\n",
       "\n",
       "    .dataframe tbody tr th {\n",
       "        vertical-align: top;\n",
       "    }\n",
       "\n",
       "    .dataframe thead th {\n",
       "        text-align: right;\n",
       "    }\n",
       "</style>\n",
       "<table border=\"1\" class=\"dataframe\">\n",
       "  <thead>\n",
       "    <tr style=\"text-align: right;\">\n",
       "      <th></th>\n",
       "      <th>Station Name</th>\n",
       "      <th>Station Latitude</th>\n",
       "      <th>Station Longitude</th>\n",
       "      <th>Business Category</th>\n",
       "      <th>Business Name</th>\n",
       "      <th>Rating</th>\n",
       "      <th>Number of Reviews</th>\n",
       "      <th>Address</th>\n",
       "      <th>Contact</th>\n",
       "      <th>Available Bikes</th>\n",
       "      <th>Empty Slots</th>\n",
       "      <th>Number of Bikes</th>\n",
       "    </tr>\n",
       "  </thead>\n",
       "  <tbody>\n",
       "    <tr>\n",
       "      <th>0</th>\n",
       "      <td>Gare d'autocars de Montréal (Berri / Ontario)</td>\n",
       "      <td>45.516926</td>\n",
       "      <td>-73.564257</td>\n",
       "      <td>Brasseries</td>\n",
       "      <td>Le Saint-Bock</td>\n",
       "      <td>4.0</td>\n",
       "      <td>208</td>\n",
       "      <td>1749 Rue Saint-Denis</td>\n",
       "      <td>+1 514-680-8052</td>\n",
       "      <td>5</td>\n",
       "      <td>10</td>\n",
       "      <td>15</td>\n",
       "    </tr>\n",
       "    <tr>\n",
       "      <th>1</th>\n",
       "      <td>Gare d'autocars de Montréal (Berri / Ontario)</td>\n",
       "      <td>45.516926</td>\n",
       "      <td>-73.564257</td>\n",
       "      <td>Tapas Bars</td>\n",
       "      <td>L'Amère à Boire</td>\n",
       "      <td>4.0</td>\n",
       "      <td>68</td>\n",
       "      <td>2049 Rue Saint-Denis</td>\n",
       "      <td>+1 514-282-7448</td>\n",
       "      <td>5</td>\n",
       "      <td>10</td>\n",
       "      <td>15</td>\n",
       "    </tr>\n",
       "    <tr>\n",
       "      <th>2</th>\n",
       "      <td>Gare d'autocars de Montréal (Berri / Ontario)</td>\n",
       "      <td>45.516926</td>\n",
       "      <td>-73.564257</td>\n",
       "      <td>Pizza</td>\n",
       "      <td>Pizzeria Dei Compari</td>\n",
       "      <td>4.0</td>\n",
       "      <td>91</td>\n",
       "      <td>1668 Rue Saint-Denis</td>\n",
       "      <td>+1 514-843-6411</td>\n",
       "      <td>5</td>\n",
       "      <td>10</td>\n",
       "      <td>15</td>\n",
       "    </tr>\n",
       "    <tr>\n",
       "      <th>3</th>\n",
       "      <td>Gare d'autocars de Montréal (Berri / Ontario)</td>\n",
       "      <td>45.516926</td>\n",
       "      <td>-73.564257</td>\n",
       "      <td>Modern European</td>\n",
       "      <td>Bouillon Bilk</td>\n",
       "      <td>4.5</td>\n",
       "      <td>503</td>\n",
       "      <td>1595 Boulevard Saint-Laurent</td>\n",
       "      <td>+1 514-845-1595</td>\n",
       "      <td>5</td>\n",
       "      <td>10</td>\n",
       "      <td>15</td>\n",
       "    </tr>\n",
       "    <tr>\n",
       "      <th>4</th>\n",
       "      <td>Gare d'autocars de Montréal (Berri / Ontario)</td>\n",
       "      <td>45.516926</td>\n",
       "      <td>-73.564257</td>\n",
       "      <td>Speakeasies</td>\n",
       "      <td>Le 4e Mur</td>\n",
       "      <td>4.5</td>\n",
       "      <td>99</td>\n",
       "      <td>2021 Rue Saint-Denis</td>\n",
       "      <td>+1 438-396-8947</td>\n",
       "      <td>5</td>\n",
       "      <td>10</td>\n",
       "      <td>15</td>\n",
       "    </tr>\n",
       "    <tr>\n",
       "      <th>...</th>\n",
       "      <td>...</td>\n",
       "      <td>...</td>\n",
       "      <td>...</td>\n",
       "      <td>...</td>\n",
       "      <td>...</td>\n",
       "      <td>...</td>\n",
       "      <td>...</td>\n",
       "      <td>...</td>\n",
       "      <td>...</td>\n",
       "      <td>...</td>\n",
       "      <td>...</td>\n",
       "      <td>...</td>\n",
       "    </tr>\n",
       "    <tr>\n",
       "      <th>3177</th>\n",
       "      <td>Ste-Catherine / Union</td>\n",
       "      <td>45.503738</td>\n",
       "      <td>-73.569485</td>\n",
       "      <td>Brasseries</td>\n",
       "      <td>Henri - Brasserie Francaise</td>\n",
       "      <td>4.0</td>\n",
       "      <td>44</td>\n",
       "      <td>1240 Phillips Square</td>\n",
       "      <td>+1 514-544-3674</td>\n",
       "      <td>14</td>\n",
       "      <td>20</td>\n",
       "      <td>34</td>\n",
       "    </tr>\n",
       "    <tr>\n",
       "      <th>3178</th>\n",
       "      <td>Ste-Catherine / Union</td>\n",
       "      <td>45.503738</td>\n",
       "      <td>-73.569485</td>\n",
       "      <td>Diners</td>\n",
       "      <td>Deville Dinerbar</td>\n",
       "      <td>4.0</td>\n",
       "      <td>609</td>\n",
       "      <td>1425 Rue Stanley</td>\n",
       "      <td>+1 514-281-6556</td>\n",
       "      <td>14</td>\n",
       "      <td>20</td>\n",
       "      <td>34</td>\n",
       "    </tr>\n",
       "    <tr>\n",
       "      <th>3179</th>\n",
       "      <td>Ste-Catherine / Union</td>\n",
       "      <td>45.503738</td>\n",
       "      <td>-73.569485</td>\n",
       "      <td>Asian Fusion</td>\n",
       "      <td>MajesThé</td>\n",
       "      <td>4.0</td>\n",
       "      <td>166</td>\n",
       "      <td>2077 Boulevard Robert-Bourassa</td>\n",
       "      <td>+1 514-840-5128</td>\n",
       "      <td>14</td>\n",
       "      <td>20</td>\n",
       "      <td>34</td>\n",
       "    </tr>\n",
       "    <tr>\n",
       "      <th>3180</th>\n",
       "      <td>Ste-Catherine / Union</td>\n",
       "      <td>45.503738</td>\n",
       "      <td>-73.569485</td>\n",
       "      <td>Delis</td>\n",
       "      <td>Reuben's Deli &amp; Steakhouse</td>\n",
       "      <td>4.0</td>\n",
       "      <td>674</td>\n",
       "      <td>1116 Rue Sainte-Catherine Ouest</td>\n",
       "      <td>+1 514-866-1029</td>\n",
       "      <td>14</td>\n",
       "      <td>20</td>\n",
       "      <td>34</td>\n",
       "    </tr>\n",
       "    <tr>\n",
       "      <th>3181</th>\n",
       "      <td>Ste-Catherine / Union</td>\n",
       "      <td>45.503738</td>\n",
       "      <td>-73.569485</td>\n",
       "      <td>French</td>\n",
       "      <td>Maison Boulud</td>\n",
       "      <td>4.5</td>\n",
       "      <td>191</td>\n",
       "      <td>1228 Rue Sherbrooke O</td>\n",
       "      <td>+1 514-842-4224</td>\n",
       "      <td>14</td>\n",
       "      <td>20</td>\n",
       "      <td>34</td>\n",
       "    </tr>\n",
       "  </tbody>\n",
       "</table>\n",
       "<p>3182 rows × 12 columns</p>\n",
       "</div>"
      ],
      "text/plain": [
       "                                       Station Name  Station Latitude  \\\n",
       "0     Gare d'autocars de Montréal (Berri / Ontario)         45.516926   \n",
       "1     Gare d'autocars de Montréal (Berri / Ontario)         45.516926   \n",
       "2     Gare d'autocars de Montréal (Berri / Ontario)         45.516926   \n",
       "3     Gare d'autocars de Montréal (Berri / Ontario)         45.516926   \n",
       "4     Gare d'autocars de Montréal (Berri / Ontario)         45.516926   \n",
       "...                                             ...               ...   \n",
       "3177                          Ste-Catherine / Union         45.503738   \n",
       "3178                          Ste-Catherine / Union         45.503738   \n",
       "3179                          Ste-Catherine / Union         45.503738   \n",
       "3180                          Ste-Catherine / Union         45.503738   \n",
       "3181                          Ste-Catherine / Union         45.503738   \n",
       "\n",
       "      Station Longitude Business Category                Business Name  \\\n",
       "0            -73.564257        Brasseries                Le Saint-Bock   \n",
       "1            -73.564257        Tapas Bars              L'Amère à Boire   \n",
       "2            -73.564257             Pizza         Pizzeria Dei Compari   \n",
       "3            -73.564257   Modern European                Bouillon Bilk   \n",
       "4            -73.564257       Speakeasies                    Le 4e Mur   \n",
       "...                 ...               ...                          ...   \n",
       "3177         -73.569485        Brasseries  Henri - Brasserie Francaise   \n",
       "3178         -73.569485            Diners             Deville Dinerbar   \n",
       "3179         -73.569485      Asian Fusion                     MajesThé   \n",
       "3180         -73.569485             Delis   Reuben's Deli & Steakhouse   \n",
       "3181         -73.569485            French                Maison Boulud   \n",
       "\n",
       "      Rating  Number of Reviews                          Address  \\\n",
       "0        4.0                208             1749 Rue Saint-Denis   \n",
       "1        4.0                 68             2049 Rue Saint-Denis   \n",
       "2        4.0                 91             1668 Rue Saint-Denis   \n",
       "3        4.5                503     1595 Boulevard Saint-Laurent   \n",
       "4        4.5                 99             2021 Rue Saint-Denis   \n",
       "...      ...                ...                              ...   \n",
       "3177     4.0                 44             1240 Phillips Square   \n",
       "3178     4.0                609                 1425 Rue Stanley   \n",
       "3179     4.0                166   2077 Boulevard Robert-Bourassa   \n",
       "3180     4.0                674  1116 Rue Sainte-Catherine Ouest   \n",
       "3181     4.5                191            1228 Rue Sherbrooke O   \n",
       "\n",
       "              Contact  Available Bikes  Empty Slots  Number of Bikes  \n",
       "0     +1 514-680-8052                5           10               15  \n",
       "1     +1 514-282-7448                5           10               15  \n",
       "2     +1 514-843-6411                5           10               15  \n",
       "3     +1 514-845-1595                5           10               15  \n",
       "4     +1 438-396-8947                5           10               15  \n",
       "...               ...              ...          ...              ...  \n",
       "3177  +1 514-544-3674               14           20               34  \n",
       "3178  +1 514-281-6556               14           20               34  \n",
       "3179  +1 514-840-5128               14           20               34  \n",
       "3180  +1 514-866-1029               14           20               34  \n",
       "3181  +1 514-842-4224               14           20               34  \n",
       "\n",
       "[3182 rows x 12 columns]"
      ]
     },
     "execution_count": 4,
     "metadata": {},
     "output_type": "execute_result"
    }
   ],
   "source": [
    "Business_and_Bike_Stations_df['Number of Bikes'] = Business_and_Bike_Stations_df['Available Bikes'] + Business_and_Bike_Stations_df['Empty Slots']\n",
    "Business_and_Bike_Stations_df"
   ]
  },
  {
   "cell_type": "code",
   "execution_count": 5,
   "metadata": {},
   "outputs": [],
   "source": [
    "Business_and_Bike_Stations_df.to_csv('Business_and_Bike_Stations.csv')"
   ]
  },
  {
   "cell_type": "code",
   "execution_count": 6,
   "metadata": {},
   "outputs": [
    {
     "name": "stdout",
     "output_type": "stream",
     "text": [
      "                    Station Name  Average Rating  Average Reviews  \\\n",
      "0           15e avenue / Laurier           3.950            32.10   \n",
      "1           6e Avenue / Bélanger           4.325            16.25   \n",
      "2           6e avenue / Villeray           4.250            11.65   \n",
      "3               Atwater / Greene           4.175           170.30   \n",
      "4           Atwater / Sherbrooke           4.200           293.65   \n",
      "..                           ...             ...              ...   \n",
      "155        du Mont-Royal / Clark           4.200           420.85   \n",
      "156   du Mont-Royal / de Brébeuf           4.150           414.95   \n",
      "157  du Parc-Lafontaine / Rachel           4.325           391.15   \n",
      "158  du Square Dorchester / Peel           4.150           253.30   \n",
      "159   Émile-Duployé / Sherbrooke           4.275           376.35   \n",
      "\n",
      "     Number of Bikes  \n",
      "0                 23  \n",
      "1                 19  \n",
      "2                 15  \n",
      "3                 25  \n",
      "4                 23  \n",
      "..               ...  \n",
      "155               34  \n",
      "156               11  \n",
      "157               19  \n",
      "158               14  \n",
      "159               22  \n",
      "\n",
      "[160 rows x 4 columns]\n"
     ]
    }
   ],
   "source": [
    "grouped_business = Business_and_Bike_Stations_df.groupby('Station Name').agg({\n",
    "    'Rating': 'mean',\n",
    "    'Number of Reviews': 'mean',\n",
    "    'Number of Bikes': 'max'\n",
    "}).reset_index()\n",
    "\n",
    "grouped_business = grouped_business.rename(columns={\n",
    "    'Rating': 'Average Rating',\n",
    "    'Number of Reviews': 'Average Reviews',\n",
    "})\n",
    "grouped_business_df = pd.DataFrame(grouped_business)\n",
    "print(grouped_business_df)"
   ]
  },
  {
   "cell_type": "code",
   "execution_count": 7,
   "metadata": {},
   "outputs": [],
   "source": [
    "grouped_business_df.to_csv('grouped_business.csv')"
   ]
  },
  {
   "cell_type": "markdown",
   "metadata": {},
   "source": [
    "Provide a visualization that you used as part of your EDA process. Explain the initial pattern or relationship you discoved through this visualization. "
   ]
  },
  {
   "cell_type": "code",
   "execution_count": 8,
   "metadata": {},
   "outputs": [
    {
     "data": {
      "text/plain": [
       "(3182, 12)"
      ]
     },
     "execution_count": 8,
     "metadata": {},
     "output_type": "execute_result"
    }
   ],
   "source": [
    "Business_and_Bike_Stations_df.shape"
   ]
  },
  {
   "cell_type": "code",
   "execution_count": 9,
   "metadata": {},
   "outputs": [
    {
     "data": {
      "text/plain": [
       "count                                              3182\n",
       "unique                                              160\n",
       "top       Gare d'autocars de Montréal (Berri / Ontario)\n",
       "freq                                                 20\n",
       "Name: Station Name, dtype: object"
      ]
     },
     "execution_count": 9,
     "metadata": {},
     "output_type": "execute_result"
    }
   ],
   "source": [
    "Business_and_Bike_Stations_df['Station Name'].describe()"
   ]
  },
  {
   "cell_type": "code",
   "execution_count": 10,
   "metadata": {},
   "outputs": [
    {
     "data": {
      "text/plain": [
       "count    3182.000000\n",
       "mean        4.188875\n",
       "std         0.420881\n",
       "min         1.000000\n",
       "25%         4.000000\n",
       "50%         4.000000\n",
       "75%         4.500000\n",
       "max         5.000000\n",
       "Name: Rating, dtype: float64"
      ]
     },
     "execution_count": 10,
     "metadata": {},
     "output_type": "execute_result"
    }
   ],
   "source": [
    "Business_and_Bike_Stations_df['Rating'].describe()"
   ]
  },
  {
   "cell_type": "code",
   "execution_count": 11,
   "metadata": {},
   "outputs": [
    {
     "data": {
      "text/plain": [
       "count    3182.000000\n",
       "mean       24.169705\n",
       "std        10.574036\n",
       "min        11.000000\n",
       "25%        18.000000\n",
       "50%        21.000000\n",
       "75%        27.000000\n",
       "max        80.000000\n",
       "Name: Number of Bikes, dtype: float64"
      ]
     },
     "execution_count": 11,
     "metadata": {},
     "output_type": "execute_result"
    }
   ],
   "source": [
    "Business_and_Bike_Stations_df['Number of Bikes'].describe()"
   ]
  },
  {
   "cell_type": "code",
   "execution_count": 12,
   "metadata": {},
   "outputs": [
    {
     "name": "stderr",
     "output_type": "stream",
     "text": [
      "C:\\Users\\Personal\\anaconda3\\Lib\\site-packages\\seaborn\\_oldcore.py:1498: FutureWarning: is_categorical_dtype is deprecated and will be removed in a future version. Use isinstance(dtype, CategoricalDtype) instead\n",
      "  if pd.api.types.is_categorical_dtype(vector):\n",
      "C:\\Users\\Personal\\anaconda3\\Lib\\site-packages\\seaborn\\_oldcore.py:1119: FutureWarning: use_inf_as_na option is deprecated and will be removed in a future version. Convert inf values to NaN before operating instead.\n",
      "  with pd.option_context('mode.use_inf_as_na', True):\n"
     ]
    },
    {
     "data": {
      "text/plain": [
       "<Axes: xlabel='Number of Bikes', ylabel='Count'>"
      ]
     },
     "execution_count": 12,
     "metadata": {},
     "output_type": "execute_result"
    },
    {
     "data": {
      "image/png": "[encoded data removed]",
      "text/plain": [
       "<Figure size 640x480 with 1 Axes>"
      ]
     },
     "metadata": {},
     "output_type": "display_data"
    }
   ],
   "source": [
    "sns.histplot(Business_and_Bike_Stations_df['Number of Bikes'])"
   ]
  },
  {
   "cell_type": "code",
   "execution_count": 13,
   "metadata": {},
   "outputs": [
    {
     "name": "stderr",
     "output_type": "stream",
     "text": [
      "C:\\Users\\Personal\\anaconda3\\Lib\\site-packages\\seaborn\\_oldcore.py:1498: FutureWarning: is_categorical_dtype is deprecated and will be removed in a future version. Use isinstance(dtype, CategoricalDtype) instead\n",
      "  if pd.api.types.is_categorical_dtype(vector):\n",
      "C:\\Users\\Personal\\anaconda3\\Lib\\site-packages\\seaborn\\_oldcore.py:1119: FutureWarning: use_inf_as_na option is deprecated and will be removed in a future version. Convert inf values to NaN before operating instead.\n",
      "  with pd.option_context('mode.use_inf_as_na', True):\n"
     ]
    },
    {
     "data": {
      "text/plain": [
       "<Axes: xlabel='Rating', ylabel='Count'>"
      ]
     },
     "execution_count": 13,
     "metadata": {},
     "output_type": "execute_result"
    },
    {
     "data": {
      "image/png": "[encoded data removed]",
      "text/plain": [
       "<Figure size 640x480 with 1 Axes>"
      ]
     },
     "metadata": {},
     "output_type": "display_data"
    }
   ],
   "source": [
    "sns.histplot(Business_and_Bike_Stations_df['Rating'])"
   ]
  },
  {
   "cell_type": "markdown",
   "metadata": {},
   "source": [
    "# Database"
   ]
  },
  {
   "cell_type": "markdown",
   "metadata": {},
   "source": [
    "Put all your results in an SQLite3 database (remember, SQLite stores its databases as files in your local machine - make sure to create your database in your project's data/ directory!)"
   ]
  },
  {
   "cell_type": "code",
   "execution_count": 14,
   "metadata": {},
   "outputs": [],
   "source": [
    "def create_connection(path):\n",
    "    connection = None\n",
    "    try:\n",
    "        connection = sqlite3.connect(path)\n",
    "        print(\"Connection to SQLite DB successful\")\n",
    "    except Error as e:\n",
    "        print(f\"The error '{e}' occurred\")\n",
    "\n",
    "    return connection"
   ]
  },
  {
   "cell_type": "code",
   "execution_count": 15,
   "metadata": {},
   "outputs": [
    {
     "name": "stdout",
     "output_type": "stream",
     "text": [
      "Connection to SQLite DB successful\n"
     ]
    }
   ],
   "source": [
    "connection = create_connection(\"Business_and_Bike_Stations.sqlite\")\n",
    "connect = sqlite3.connect('Business_and_Bike_Stations.sqlite')"
   ]
  },
  {
   "cell_type": "code",
   "execution_count": 16,
   "metadata": {},
   "outputs": [
    {
     "data": {
      "text/plain": [
       "3182"
      ]
     },
     "execution_count": 16,
     "metadata": {},
     "output_type": "execute_result"
    }
   ],
   "source": [
    "table_name = 'Business_and_Bike_Stations'\n",
    "Business_and_Bike_Stations_df.to_sql(table_name, connect, if_exists='replace', index=False)"
   ]
  },
  {
   "cell_type": "code",
   "execution_count": 17,
   "metadata": {},
   "outputs": [],
   "source": [
    "connect.commit()\n",
    "connect.close()"
   ]
  },
  {
   "cell_type": "markdown",
   "metadata": {},
   "source": [
    "Look at the data before and after the join to validate your data."
   ]
  },
  {
   "cell_type": "code",
   "execution_count": 18,
   "metadata": {},
   "outputs": [
    {
     "name": "stdout",
     "output_type": "stream",
     "text": [
      "160\n",
      "160\n",
      "5\n",
      "160\n"
     ]
    }
   ],
   "source": [
    "print(len(bike_stations_df.index))\n",
    "print(bike_stations_df.shape[0])\n",
    "print(bike_stations_df.shape[1])\n",
    "print(bike_stations_df[bike_stations_df.columns[0]].count())"
   ]
  },
  {
   "cell_type": "code",
   "execution_count": 19,
   "metadata": {},
   "outputs": [
    {
     "name": "stdout",
     "output_type": "stream",
     "text": [
      "3182\n",
      "3182\n",
      "9\n",
      "3182\n"
     ]
    }
   ],
   "source": [
    "print(len(yelp_business_df.index))\n",
    "print(yelp_business_df.shape[0])\n",
    "print(yelp_business_df.shape[1])\n",
    "print(yelp_business_df[yelp_business_df.columns[0]].count())"
   ]
  },
  {
   "cell_type": "code",
   "execution_count": 20,
   "metadata": {},
   "outputs": [
    {
     "name": "stdout",
     "output_type": "stream",
     "text": [
      "3182\n",
      "3182\n",
      "12\n",
      "3182\n"
     ]
    }
   ],
   "source": [
    "print(len(Business_and_Bike_Stations_df.index))\n",
    "print(Business_and_Bike_Stations_df.shape[0])\n",
    "print(Business_and_Bike_Stations_df.shape[1])\n",
    "print(Business_and_Bike_Stations_df[Business_and_Bike_Stations_df.columns[0]].count())"
   ]
  },
  {
   "cell_type": "code",
   "execution_count": null,
   "metadata": {},
   "outputs": [],
   "source": []
  }
 ],
 "metadata": {
  "kernelspec": {
   "display_name": "Python 3 (ipykernel)",
   "language": "python",
   "name": "python3"
  },
  "language_info": {
   "codemirror_mode": {
    "name": "ipython",
    "version": 3
   },
   "file_extension": ".py",
   "mimetype": "text/x-python",
   "name": "python",
   "nbconvert_exporter": "python",
   "pygments_lexer": "ipython3",
   "version": "3.11.5"
  }
 },
 "nbformat": 4,
 "nbformat_minor": 4
}
