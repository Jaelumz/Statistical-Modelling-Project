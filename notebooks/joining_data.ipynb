{
 "cells": [
  {
   "cell_type": "markdown",
   "metadata": {},
   "source": [
    "Join the data from Part 1 with the data from Part 2 to create a new dataframe."
   ]
  },
  {
   "cell_type": "code",
   "execution_count": 57,
   "metadata": {},
   "outputs": [],
   "source": [
    "# imports\n",
    "import pandas as pd\n",
    "import sqlite3\n",
    "from sqlite3 import Error\n",
    "import seaborn as sns\n",
    "from scipy import stats\n",
    "\n",
    "import warnings\n",
    "\n",
    "# Suppress seaborn and pandas warnings\n",
    "warnings.filterwarnings(\"ignore\", category=FutureWarning)"
   ]
  },
  {
   "cell_type": "code",
   "execution_count": 21,
   "metadata": {},
   "outputs": [],
   "source": [
    "bike_stations_df = pd.read_csv('bike_stations.csv', index_col = 0)\n",
    "yelp_business_df = pd.read_csv('yelp_business.csv', index_col = 0)"
   ]
  },
  {
   "cell_type": "markdown",
   "metadata": {},
   "source": [
    "Join the data from both dataframes on Station Name and drop columns not needed"
   ]
  },
  {
   "cell_type": "code",
   "execution_count": 5,
   "metadata": {},
   "outputs": [],
   "source": [
    "Business_and_Bike_Stations_df = pd.merge(yelp_business_df, bike_stations_df, on = 'Station Name')\n",
    "Business_and_Bike_Stations_df = Business_and_Bike_Stations_df.drop(columns=['Latitude', 'Longitude'])"
   ]
  },
  {
   "cell_type": "code",
   "execution_count": 6,
   "metadata": {},
   "outputs": [
    {
     "data": {
      "text/html": [
       "<div>\n",
       "<style scoped>\n",
       "    .dataframe tbody tr th:only-of-type {\n",
       "        vertical-align: middle;\n",
       "    }\n",
       "\n",
       "    .dataframe tbody tr th {\n",
       "        vertical-align: top;\n",
       "    }\n",
       "\n",
       "    .dataframe thead th {\n",
       "        text-align: right;\n",
       "    }\n",
       "</style>\n",
       "<table border=\"1\" class=\"dataframe\">\n",
       "  <thead>\n",
       "    <tr style=\"text-align: right;\">\n",
       "      <th></th>\n",
       "      <th>Station Name</th>\n",
       "      <th>Station Latitude</th>\n",
       "      <th>Station Longitude</th>\n",
       "      <th>Business Category</th>\n",
       "      <th>Business Name</th>\n",
       "      <th>Rating</th>\n",
       "      <th>Number of Reviews</th>\n",
       "      <th>Address</th>\n",
       "      <th>Contact</th>\n",
       "      <th>Available Bikes</th>\n",
       "      <th>Empty Slots</th>\n",
       "      <th>Number of Bikes</th>\n",
       "    </tr>\n",
       "  </thead>\n",
       "  <tbody>\n",
       "    <tr>\n",
       "      <th>0</th>\n",
       "      <td>SE 47th at Hawthorne</td>\n",
       "      <td>45.511950</td>\n",
       "      <td>-122.614160</td>\n",
       "      <td>Mexican</td>\n",
       "      <td>Por Qué No? Taqueria</td>\n",
       "      <td>4.0</td>\n",
       "      <td>1365</td>\n",
       "      <td>4635 SE Hawthorne Blvd</td>\n",
       "      <td>(503) 954-3138</td>\n",
       "      <td>1</td>\n",
       "      <td>2</td>\n",
       "      <td>3</td>\n",
       "    </tr>\n",
       "    <tr>\n",
       "      <th>1</th>\n",
       "      <td>SE 47th at Hawthorne</td>\n",
       "      <td>45.511950</td>\n",
       "      <td>-122.614160</td>\n",
       "      <td>Pizza</td>\n",
       "      <td>Apizza Scholls</td>\n",
       "      <td>4.0</td>\n",
       "      <td>1753</td>\n",
       "      <td>4741 SE Hawthorne Blvd</td>\n",
       "      <td>(503) 233-1286</td>\n",
       "      <td>1</td>\n",
       "      <td>2</td>\n",
       "      <td>3</td>\n",
       "    </tr>\n",
       "    <tr>\n",
       "      <th>2</th>\n",
       "      <td>SE 47th at Hawthorne</td>\n",
       "      <td>45.511950</td>\n",
       "      <td>-122.614160</td>\n",
       "      <td>Lounges</td>\n",
       "      <td>Sapphire Hotel</td>\n",
       "      <td>4.5</td>\n",
       "      <td>492</td>\n",
       "      <td>5008 SE Hawthorne Blvd</td>\n",
       "      <td>(503) 232-6333</td>\n",
       "      <td>1</td>\n",
       "      <td>2</td>\n",
       "      <td>3</td>\n",
       "    </tr>\n",
       "    <tr>\n",
       "      <th>3</th>\n",
       "      <td>SE 47th at Hawthorne</td>\n",
       "      <td>45.511950</td>\n",
       "      <td>-122.614160</td>\n",
       "      <td>Noodles</td>\n",
       "      <td>Baka Umai</td>\n",
       "      <td>4.5</td>\n",
       "      <td>178</td>\n",
       "      <td>4703 SE Hawthorne Blvd</td>\n",
       "      <td>(971) 255-0116</td>\n",
       "      <td>1</td>\n",
       "      <td>2</td>\n",
       "      <td>3</td>\n",
       "    </tr>\n",
       "    <tr>\n",
       "      <th>4</th>\n",
       "      <td>SE 47th at Hawthorne</td>\n",
       "      <td>45.511950</td>\n",
       "      <td>-122.614160</td>\n",
       "      <td>Thai</td>\n",
       "      <td>Khao Thai</td>\n",
       "      <td>4.5</td>\n",
       "      <td>73</td>\n",
       "      <td>4604 SE Hawthorne Blvd</td>\n",
       "      <td>(971) 346-2422</td>\n",
       "      <td>1</td>\n",
       "      <td>2</td>\n",
       "      <td>3</td>\n",
       "    </tr>\n",
       "    <tr>\n",
       "      <th>...</th>\n",
       "      <td>...</td>\n",
       "      <td>...</td>\n",
       "      <td>...</td>\n",
       "      <td>...</td>\n",
       "      <td>...</td>\n",
       "      <td>...</td>\n",
       "      <td>...</td>\n",
       "      <td>...</td>\n",
       "      <td>...</td>\n",
       "      <td>...</td>\n",
       "      <td>...</td>\n",
       "      <td>...</td>\n",
       "    </tr>\n",
       "    <tr>\n",
       "      <th>4749</th>\n",
       "      <td>NE 29th Ave (U of O)</td>\n",
       "      <td>45.570366</td>\n",
       "      <td>-122.636043</td>\n",
       "      <td>Bakeries</td>\n",
       "      <td>Flour Market</td>\n",
       "      <td>5.0</td>\n",
       "      <td>28</td>\n",
       "      <td>5507 NE 30th Ave</td>\n",
       "      <td>(503) 209-5363</td>\n",
       "      <td>5</td>\n",
       "      <td>1</td>\n",
       "      <td>6</td>\n",
       "    </tr>\n",
       "    <tr>\n",
       "      <th>4750</th>\n",
       "      <td>NE 29th Ave (U of O)</td>\n",
       "      <td>45.570366</td>\n",
       "      <td>-122.636043</td>\n",
       "      <td>Food Trucks</td>\n",
       "      <td>Honey Butter Country Fare</td>\n",
       "      <td>5.0</td>\n",
       "      <td>26</td>\n",
       "      <td>6719 NE 18th Ave</td>\n",
       "      <td>(503) 209-5363</td>\n",
       "      <td>5</td>\n",
       "      <td>1</td>\n",
       "      <td>6</td>\n",
       "    </tr>\n",
       "    <tr>\n",
       "      <th>4751</th>\n",
       "      <td>NE 29th Ave (U of O)</td>\n",
       "      <td>45.570366</td>\n",
       "      <td>-122.636043</td>\n",
       "      <td>Coffee &amp; Tea</td>\n",
       "      <td>Kiss Coffee</td>\n",
       "      <td>5.0</td>\n",
       "      <td>37</td>\n",
       "      <td>3016 NE Ainsworth St</td>\n",
       "      <td>(503) 209-5363</td>\n",
       "      <td>5</td>\n",
       "      <td>1</td>\n",
       "      <td>6</td>\n",
       "    </tr>\n",
       "    <tr>\n",
       "      <th>4752</th>\n",
       "      <td>NE 29th Ave (U of O)</td>\n",
       "      <td>45.570366</td>\n",
       "      <td>-122.636043</td>\n",
       "      <td>Burgers</td>\n",
       "      <td>Bless Your Heart Burgers</td>\n",
       "      <td>4.0</td>\n",
       "      <td>132</td>\n",
       "      <td>5410 NE 33rd Ave</td>\n",
       "      <td>(503) 719-6447</td>\n",
       "      <td>5</td>\n",
       "      <td>1</td>\n",
       "      <td>6</td>\n",
       "    </tr>\n",
       "    <tr>\n",
       "      <th>4753</th>\n",
       "      <td>NE 29th Ave (U of O)</td>\n",
       "      <td>45.570366</td>\n",
       "      <td>-122.636043</td>\n",
       "      <td>Bars</td>\n",
       "      <td>Boiler Room at Kennedy School</td>\n",
       "      <td>4.5</td>\n",
       "      <td>23</td>\n",
       "      <td>5736 NE 33rd Ave</td>\n",
       "      <td>(503) 719-6447</td>\n",
       "      <td>5</td>\n",
       "      <td>1</td>\n",
       "      <td>6</td>\n",
       "    </tr>\n",
       "  </tbody>\n",
       "</table>\n",
       "<p>4754 rows × 12 columns</p>\n",
       "</div>"
      ],
      "text/plain": [
       "              Station Name  Station Latitude  Station Longitude  \\\n",
       "0     SE 47th at Hawthorne         45.511950        -122.614160   \n",
       "1     SE 47th at Hawthorne         45.511950        -122.614160   \n",
       "2     SE 47th at Hawthorne         45.511950        -122.614160   \n",
       "3     SE 47th at Hawthorne         45.511950        -122.614160   \n",
       "4     SE 47th at Hawthorne         45.511950        -122.614160   \n",
       "...                    ...               ...                ...   \n",
       "4749  NE 29th Ave (U of O)         45.570366        -122.636043   \n",
       "4750  NE 29th Ave (U of O)         45.570366        -122.636043   \n",
       "4751  NE 29th Ave (U of O)         45.570366        -122.636043   \n",
       "4752  NE 29th Ave (U of O)         45.570366        -122.636043   \n",
       "4753  NE 29th Ave (U of O)         45.570366        -122.636043   \n",
       "\n",
       "     Business Category                  Business Name  Rating  \\\n",
       "0              Mexican           Por Qué No? Taqueria     4.0   \n",
       "1                Pizza                 Apizza Scholls     4.0   \n",
       "2              Lounges                 Sapphire Hotel     4.5   \n",
       "3              Noodles                      Baka Umai     4.5   \n",
       "4                 Thai                      Khao Thai     4.5   \n",
       "...                ...                            ...     ...   \n",
       "4749          Bakeries                   Flour Market     5.0   \n",
       "4750       Food Trucks      Honey Butter Country Fare     5.0   \n",
       "4751      Coffee & Tea                    Kiss Coffee     5.0   \n",
       "4752           Burgers       Bless Your Heart Burgers     4.0   \n",
       "4753              Bars  Boiler Room at Kennedy School     4.5   \n",
       "\n",
       "      Number of Reviews                 Address         Contact  \\\n",
       "0                  1365  4635 SE Hawthorne Blvd  (503) 954-3138   \n",
       "1                  1753  4741 SE Hawthorne Blvd  (503) 233-1286   \n",
       "2                   492  5008 SE Hawthorne Blvd  (503) 232-6333   \n",
       "3                   178  4703 SE Hawthorne Blvd  (971) 255-0116   \n",
       "4                    73  4604 SE Hawthorne Blvd  (971) 346-2422   \n",
       "...                 ...                     ...             ...   \n",
       "4749                 28        5507 NE 30th Ave  (503) 209-5363   \n",
       "4750                 26        6719 NE 18th Ave  (503) 209-5363   \n",
       "4751                 37    3016 NE Ainsworth St  (503) 209-5363   \n",
       "4752                132        5410 NE 33rd Ave  (503) 719-6447   \n",
       "4753                 23        5736 NE 33rd Ave  (503) 719-6447   \n",
       "\n",
       "      Available Bikes  Empty Slots  Number of Bikes  \n",
       "0                   1            2                3  \n",
       "1                   1            2                3  \n",
       "2                   1            2                3  \n",
       "3                   1            2                3  \n",
       "4                   1            2                3  \n",
       "...               ...          ...              ...  \n",
       "4749                5            1                6  \n",
       "4750                5            1                6  \n",
       "4751                5            1                6  \n",
       "4752                5            1                6  \n",
       "4753                5            1                6  \n",
       "\n",
       "[4754 rows x 12 columns]"
      ]
     },
     "execution_count": 6,
     "metadata": {},
     "output_type": "execute_result"
    }
   ],
   "source": [
    "Business_and_Bike_Stations_df['Number of Bikes'] = Business_and_Bike_Stations_df['Available Bikes'] + Business_and_Bike_Stations_df['Empty Slots']\n",
    "Business_and_Bike_Stations_df"
   ]
  },
  {
   "cell_type": "code",
   "execution_count": 7,
   "metadata": {},
   "outputs": [],
   "source": [
    "Business_and_Bike_Stations_df.to_csv('Business_and_Bike_Stations.csv')"
   ]
  },
  {
   "cell_type": "markdown",
   "metadata": {},
   "source": [
    "Using the aggregate argument for summary stats of the dataframe for Business and Bike Stations"
   ]
  },
  {
   "cell_type": "markdown",
   "metadata": {},
   "source": [
    "Exploratory Data Analysis"
   ]
  },
  {
   "cell_type": "code",
   "execution_count": 59,
   "metadata": {},
   "outputs": [
    {
     "name": "stdout",
     "output_type": "stream",
     "text": [
      "                        Station Name  Average Rating  Average Reviews  \\\n",
      "0            Broadway Residence Hall        4.175000       572.050000   \n",
      "1                Casey Eye Institute        4.175000        80.850000   \n",
      "2              Cleveland High School        4.300000       561.050000   \n",
      "3                         Cully Park        4.083333        47.111111   \n",
      "4    Doernbecher Children's Hospital        4.175000        48.750000   \n",
      "..                               ...             ...              ...   \n",
      "233      SW Yamhill at Director Park        4.175000      1497.900000   \n",
      "234                    Shattuck Hall        4.175000       605.500000   \n",
      "235         Tilikum West at SW Moody        4.025000       285.600000   \n",
      "236     Urban Center Plaza at SW 6th        4.150000       741.550000   \n",
      "237        W Burnside at SW Park Ave        4.200000      1707.550000   \n",
      "\n",
      "     Number of Bikes  \n",
      "0                  4  \n",
      "1                  6  \n",
      "2                  9  \n",
      "3                 10  \n",
      "4                  6  \n",
      "..               ...  \n",
      "233               20  \n",
      "234                3  \n",
      "235               18  \n",
      "236               14  \n",
      "237                9  \n",
      "\n",
      "[238 rows x 4 columns]\n"
     ]
    }
   ],
   "source": [
    "grouped_business = Business_and_Bike_Stations_df.groupby('Station Name').agg({\n",
    "    'Rating': 'mean',\n",
    "    'Number of Reviews': 'mean',\n",
    "    'Number of Bikes': 'max'\n",
    "}).reset_index()\n",
    "\n",
    "grouped_business = grouped_business.rename(columns={\n",
    "    'Rating': 'Average Rating',\n",
    "    'Number of Reviews': 'Average Reviews',\n",
    "})\n",
    "grouped_business_df = pd.DataFrame(grouped_business)\n",
    "print(grouped_business_df)"
   ]
  },
  {
   "cell_type": "code",
   "execution_count": 9,
   "metadata": {},
   "outputs": [],
   "source": [
    "grouped_business_df.to_csv('grouped_business.csv')"
   ]
  },
  {
   "cell_type": "markdown",
   "metadata": {},
   "source": [
    "Provide a visualization that you used as part of your EDA process. Explain the initial pattern or relationship you discoved through this visualization. "
   ]
  },
  {
   "cell_type": "code",
   "execution_count": 42,
   "metadata": {},
   "outputs": [
    {
     "data": {
      "text/plain": [
       "(238, 4)"
      ]
     },
     "execution_count": 42,
     "metadata": {},
     "output_type": "execute_result"
    }
   ],
   "source": [
    "#The cummulative table has 238 rows, 4 columns\n",
    "grouped_business_df.shape"
   ]
  },
  {
   "cell_type": "code",
   "execution_count": 43,
   "metadata": {},
   "outputs": [
    {
     "data": {
      "text/plain": [
       "count                         238\n",
       "unique                        238\n",
       "top       Broadway Residence Hall\n",
       "freq                            1\n",
       "Name: Station Name, dtype: object"
      ]
     },
     "execution_count": 43,
     "metadata": {},
     "output_type": "execute_result"
    }
   ],
   "source": [
    "#we have 238 unique bike stations\n",
    "grouped_business_df['Station Name'].describe()"
   ]
  },
  {
   "cell_type": "code",
   "execution_count": 44,
   "metadata": {},
   "outputs": [
    {
     "data": {
      "text/plain": [
       "count    238.000000\n",
       "mean       4.218023\n",
       "std        0.167009\n",
       "min        3.225000\n",
       "25%        4.150000\n",
       "50%        4.250000\n",
       "75%        4.325000\n",
       "max        4.625000\n",
       "Name: Average Rating, dtype: float64"
      ]
     },
     "execution_count": 44,
     "metadata": {},
     "output_type": "execute_result"
    }
   ],
   "source": [
    "#We have a maximum rating of 4.63 and minimum rating of 3.23, with a mean of 4.22\n",
    "grouped_business_df['Average Rating'].describe()"
   ]
  },
  {
   "cell_type": "code",
   "execution_count": 47,
   "metadata": {},
   "outputs": [
    {
     "data": {
      "text/plain": [
       "count     238.000000\n",
       "mean      571.902463\n",
       "std       425.349184\n",
       "min        47.111111\n",
       "25%       219.825000\n",
       "50%       448.700000\n",
       "75%       805.100000\n",
       "max      1707.550000\n",
       "Name: Average Reviews, dtype: float64"
      ]
     },
     "execution_count": 47,
     "metadata": {},
     "output_type": "execute_result"
    }
   ],
   "source": [
    "#The maximum number of reviews for a station is 1708 and the minimum number of reviews for a station is 47, with a mean of 572 reviews per station\n",
    "grouped_business_df['Average Reviews'].describe()"
   ]
  },
  {
   "cell_type": "code",
   "execution_count": 48,
   "metadata": {},
   "outputs": [
    {
     "data": {
      "text/plain": [
       "count    238.000000\n",
       "mean       9.638655\n",
       "std        5.094435\n",
       "min        1.000000\n",
       "25%        5.000000\n",
       "50%        9.000000\n",
       "75%       13.000000\n",
       "max       25.000000\n",
       "Name: Number of Bikes, dtype: float64"
      ]
     },
     "execution_count": 48,
     "metadata": {},
     "output_type": "execute_result"
    }
   ],
   "source": [
    "#The maximum number of bikes for a station is 25 and the minimum number of bikes for a station is 1, with a mean of 10 bikes per station\n",
    "grouped_business_df['Number of Bikes'].describe()"
   ]
  },
  {
   "cell_type": "code",
   "execution_count": 49,
   "metadata": {},
   "outputs": [
    {
     "data": {
      "text/plain": [
       "<Axes: xlabel='Number of Bikes', ylabel='Count'>"
      ]
     },
     "execution_count": 49,
     "metadata": {},
     "output_type": "execute_result"
    },
    {
     "data": {
      "image/png": "[encoded data removed]",
      "text/plain": [
       "<Figure size 640x480 with 1 Axes>"
      ]
     },
     "metadata": {},
     "output_type": "display_data"
    }
   ],
   "source": [
    "#The distribution is skewed to the right implying that majority of bike stations have less than 20 bikes\n",
    "sns.histplot(grouped_business_df['Number of Bikes'])"
   ]
  },
  {
   "cell_type": "code",
   "execution_count": 51,
   "metadata": {},
   "outputs": [
    {
     "data": {
      "text/plain": [
       "<Axes: xlabel='Average Rating', ylabel='Count'>"
      ]
     },
     "execution_count": 51,
     "metadata": {},
     "output_type": "execute_result"
    },
    {
     "data": {
      "image/png": "[encoded data removed]",
      "text/plain": [
       "<Figure size 640x480 with 1 Axes>"
      ]
     },
     "metadata": {},
     "output_type": "display_data"
    }
   ],
   "source": [
    "#The data is not normally distributed and skewed to the left impyling that most bike stations have an average rating above 3.8\n",
    "sns.histplot(grouped_business_df['Average Rating'])"
   ]
  },
  {
   "cell_type": "code",
   "execution_count": 53,
   "metadata": {},
   "outputs": [
    {
     "data": {
      "text/plain": [
       "<Axes: xlabel='Average Reviews', ylabel='Count'>"
      ]
     },
     "execution_count": 53,
     "metadata": {},
     "output_type": "execute_result"
    },
    {
     "data": {
      "image/png": "[encoded data removed]",
      "text/plain": [
       "<Figure size 640x480 with 1 Axes>"
      ]
     },
     "metadata": {},
     "output_type": "display_data"
    }
   ],
   "source": [
    "#The data is log-normally distributed.\n",
    "sns.histplot(grouped_business_df['Average Reviews'])"
   ]
  },
  {
   "cell_type": "markdown",
   "metadata": {},
   "source": [
    "Data Visualization for Exploratory Data Analysis using Number of Bikes vs Reviews"
   ]
  },
  {
   "cell_type": "code",
   "execution_count": 54,
   "metadata": {},
   "outputs": [
    {
     "data": {
      "image/png": "[encoded data removed]",
      "text/plain": [
       "<Figure size 640x480 with 1 Axes>"
      ]
     },
     "metadata": {},
     "output_type": "display_data"
    }
   ],
   "source": [
    "import matplotlib.pyplot as plt\n",
    "\n",
    "plt.scatter(grouped_business_df['Number of Bikes'], grouped_business_df['Average Reviews'])\n",
    "plt.title('Scatter Plot: Number of Bikes vs Average Reviews')\n",
    "plt.xlabel('Number of Bikes')\n",
    "plt.ylabel('Average Reviews')\n",
    "plt.show()"
   ]
  },
  {
   "cell_type": "code",
   "execution_count": 55,
   "metadata": {},
   "outputs": [
    {
     "data": {
      "image/png": "[encoded data removed]",
      "text/plain": [
       "<Figure size 640x480 with 1 Axes>"
      ]
     },
     "metadata": {},
     "output_type": "display_data"
    }
   ],
   "source": [
    "import matplotlib.pyplot as plt\n",
    "\n",
    "plt.scatter(grouped_business_df['Number of Bikes'], grouped_business_df['Average Rating'])\n",
    "plt.title('Scatter Plot: Number of Bikes vs Average Rating')\n",
    "plt.xlabel('Number of Bikes')\n",
    "plt.ylabel('Average Rating')\n",
    "plt.show()"
   ]
  },
  {
   "cell_type": "markdown",
   "metadata": {},
   "source": [
    "From initial interpretation of the scatter plot, we can see a strong positive relationship between number of bikes and the average rating for the bike station with a couple of outliers identified. We observe a week or null relationship between number of bikes and the Average Reviews for the bike stations."
   ]
  },
  {
   "cell_type": "markdown",
   "metadata": {},
   "source": [
    "# Database"
   ]
  },
  {
   "cell_type": "markdown",
   "metadata": {},
   "source": [
    "Put all your results in an SQLite3 database (remember, SQLite stores its databases as files in your local machine - make sure to create your database in your project's data/ directory!)"
   ]
  },
  {
   "cell_type": "code",
   "execution_count": 18,
   "metadata": {},
   "outputs": [],
   "source": [
    "def create_connection(path):\n",
    "    connection = None\n",
    "    try:\n",
    "        connection = sqlite3.connect(path)\n",
    "        print(\"Connection to SQLite DB successful\")\n",
    "    except Error as e:\n",
    "        print(f\"The error '{e}' occurred\")\n",
    "\n",
    "    return connection"
   ]
  },
  {
   "cell_type": "code",
   "execution_count": 19,
   "metadata": {},
   "outputs": [
    {
     "name": "stdout",
     "output_type": "stream",
     "text": [
      "Connection to SQLite DB successful\n"
     ]
    }
   ],
   "source": [
    "connection = create_connection(\"Business_and_Bike_Stations.sqlite\")\n",
    "connect = sqlite3.connect('Business_and_Bike_Stations.sqlite')"
   ]
  },
  {
   "cell_type": "code",
   "execution_count": 20,
   "metadata": {},
   "outputs": [
    {
     "data": {
      "text/plain": [
       "4754"
      ]
     },
     "execution_count": 20,
     "metadata": {},
     "output_type": "execute_result"
    }
   ],
   "source": [
    "table_name = 'Business_and_Bike_Stations'\n",
    "Business_and_Bike_Stations_df.to_sql(table_name, connect, if_exists='replace', index=False)"
   ]
  },
  {
   "cell_type": "markdown",
   "metadata": {},
   "source": [
    "importing bike stations and yelp business tables to SQL"
   ]
  },
  {
   "cell_type": "code",
   "execution_count": 22,
   "metadata": {},
   "outputs": [
    {
     "data": {
      "text/plain": [
       "238"
      ]
     },
     "execution_count": 22,
     "metadata": {},
     "output_type": "execute_result"
    }
   ],
   "source": [
    "table_name = 'Bike_Stations'\n",
    "bike_stations_df.to_sql(table_name, connect, if_exists='replace', index=False)"
   ]
  },
  {
   "cell_type": "code",
   "execution_count": 23,
   "metadata": {},
   "outputs": [
    {
     "data": {
      "text/plain": [
       "4754"
      ]
     },
     "execution_count": 23,
     "metadata": {},
     "output_type": "execute_result"
    }
   ],
   "source": [
    "table_name = 'yelp_business'\n",
    "yelp_business_df.to_sql(table_name, connect, if_exists='replace', index=False)"
   ]
  },
  {
   "cell_type": "markdown",
   "metadata": {},
   "source": [
    "Look at the data before and after the join to validate your data."
   ]
  },
  {
   "cell_type": "markdown",
   "metadata": {},
   "source": [
    "Using SQL for data audit to validate the results to verify that yelp_business and bike_stations data is found in merged business_and_bike_stations table"
   ]
  },
  {
   "cell_type": "markdown",
   "metadata": {},
   "source": [
    "Verifying bike stations table"
   ]
  },
  {
   "cell_type": "code",
   "execution_count": 29,
   "metadata": {},
   "outputs": [],
   "source": [
    "# Connect to the SQLite database\n",
    "cursor = connection.cursor()\n",
    "\n",
    "# Execute a query to get the number of rows and columns in Bike Stations\n",
    "query = \"PRAGMA table_info('Bike_Stations');\"\n",
    "cursor.execute(query)\n",
    "\n",
    "# Fetch all the rows from the result set\n",
    "columns_info = cursor.fetchall()\n",
    "\n",
    "# Get the number of rows and columns (entries in the table)\n",
    "query = \"SELECT COUNT(*) FROM 'Bike_Stations';\"\n",
    "cursor.execute(query)\n",
    "num_rows = cursor.fetchone()[0]\n",
    "num_columns = len(columns_info)"
   ]
  },
  {
   "cell_type": "code",
   "execution_count": 30,
   "metadata": {},
   "outputs": [
    {
     "name": "stdout",
     "output_type": "stream",
     "text": [
      "Number of rows in 'Bike Stations': 238\n",
      "Number of columns in 'Bike Stations': 5\n"
     ]
    }
   ],
   "source": [
    "#print the result\n",
    "print(f\"Number of rows in 'Bike Stations': {num_rows}\")\n",
    "print(f\"Number of columns in 'Bike Stations': {num_columns}\")"
   ]
  },
  {
   "cell_type": "markdown",
   "metadata": {},
   "source": [
    "Verifying Yelp Business table"
   ]
  },
  {
   "cell_type": "code",
   "execution_count": 31,
   "metadata": {},
   "outputs": [],
   "source": [
    "# Connect to the SQLite database\n",
    "cursor = connection.cursor()\n",
    "\n",
    "# Execute a query to get the number of rows and columns in Bike Stations\n",
    "query = \"PRAGMA table_info('yelp_business');\"\n",
    "cursor.execute(query)\n",
    "\n",
    "# Fetch all the rows from the result set\n",
    "columns_info = cursor.fetchall()\n",
    "\n",
    "# Get the number of rows and columns (entries in the table)\n",
    "query = \"SELECT COUNT(*) FROM 'yelp_business';\"\n",
    "cursor.execute(query)\n",
    "num_rows = cursor.fetchone()[0]\n",
    "num_columns = len(columns_info)"
   ]
  },
  {
   "cell_type": "code",
   "execution_count": 32,
   "metadata": {},
   "outputs": [
    {
     "name": "stdout",
     "output_type": "stream",
     "text": [
      "Number of rows in 'yelp_business': 4754\n",
      "Number of columns in 'yelp_business': 9\n"
     ]
    }
   ],
   "source": [
    "#print the result\n",
    "print(f\"Number of rows in 'yelp_business': {num_rows}\")\n",
    "print(f\"Number of columns in 'yelp_business': {num_columns}\")"
   ]
  },
  {
   "cell_type": "markdown",
   "metadata": {},
   "source": [
    "Verifying Business_and_Bike_Stations table "
   ]
  },
  {
   "cell_type": "code",
   "execution_count": 33,
   "metadata": {},
   "outputs": [],
   "source": [
    "# Connect to the SQLite database\n",
    "cursor = connection.cursor()\n",
    "\n",
    "# Execute a query to get the number of rows and columns in Business and Bike Stations\n",
    "query = \"PRAGMA table_info('Business_and_Bike_Stations');\"\n",
    "cursor.execute(query)\n",
    "\n",
    "# Fetch all the rows from the result set\n",
    "columns_info = cursor.fetchall()\n",
    "\n",
    "# Get the number of rows and columns (entries in the table)\n",
    "query = \"SELECT COUNT(*) FROM 'Business_and_Bike_Stations';\"\n",
    "cursor.execute(query)\n",
    "num_rows = cursor.fetchone()[0]\n",
    "num_columns = len(columns_info)"
   ]
  },
  {
   "cell_type": "code",
   "execution_count": 35,
   "metadata": {},
   "outputs": [
    {
     "name": "stdout",
     "output_type": "stream",
     "text": [
      "Number of rows in 'Business_and_Bike_Station': 4754\n",
      "Number of columns in 'Business_and_Bike_Station': 12\n"
     ]
    }
   ],
   "source": [
    "#print the result to validate that data tables are found in Business_and_Bike_Station\n",
    "print(f\"Number of rows in 'Business_and_Bike_Station': {num_rows}\")\n",
    "print(f\"Number of columns in 'Business_and_Bike_Station': {num_columns}\")"
   ]
  },
  {
   "cell_type": "code",
   "execution_count": 36,
   "metadata": {},
   "outputs": [],
   "source": [
    "connect.commit()\n",
    "connect.close()"
   ]
  },
  {
   "cell_type": "markdown",
   "metadata": {},
   "source": []
  }
 ],
 "metadata": {
  "kernelspec": {
   "display_name": "Python 3 (ipykernel)",
   "language": "python",
   "name": "python3"
  },
  "language_info": {
   "codemirror_mode": {
    "name": "ipython",
    "version": 3
   },
   "file_extension": ".py",
   "mimetype": "text/x-python",
   "name": "python",
   "nbconvert_exporter": "python",
   "pygments_lexer": "ipython3",
   "version": "3.11.5"
  }
 },
 "nbformat": 4,
 "nbformat_minor": 4
}
